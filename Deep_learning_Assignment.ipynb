{
  "metadata": {
    "kernelspec": {
      "language": "python",
      "display_name": "Python 3",
      "name": "python3"
    },
    "language_info": {
      "name": "python",
      "version": "3.7.12",
      "mimetype": "text/x-python",
      "codemirror_mode": {
        "name": "ipython",
        "version": 3
      },
      "pygments_lexer": "ipython3",
      "nbconvert_exporter": "python",
      "file_extension": ".py"
    },
    "colab": {
      "name": "Deep_learning Assignment.ipynb",
      "provenance": [],
      "collapsed_sections": [],
      "include_colab_link": true
    },
    "accelerator": "GPU"
  },
  "nbformat_minor": 0,
  "nbformat": 4,
  "cells": [
    {
      "cell_type": "markdown",
      "metadata": {
        "id": "view-in-github",
        "colab_type": "text"
      },
      "source": [
        "<a href=\"https://colab.research.google.com/github/ankojubhanuprakash/WorkSpace/blob/main/Deep_learning_Assignment.ipynb\" target=\"_parent\"><img src=\"https://colab.research.google.com/assets/colab-badge.svg\" alt=\"Open In Colab\"/></a>"
      ]
    },
    {
      "cell_type": "markdown",
      "source": [
        "# Load data from google drive"
      ],
      "metadata": {
        "id": "DijSSGe6Fl01"
      }
    },
    {
      "cell_type": "code",
      "source": [
        "from google.colab import drive\n",
        "drive.mount('/content/drive')"
      ],
      "metadata": {
        "colab": {
          "base_uri": "https://localhost:8080/"
        },
        "id": "CH0g9Eo9E5wa",
        "outputId": "51bb5a73-57cd-4bf4-b563-49603cd032d6"
      },
      "execution_count": null,
      "outputs": [
        {
          "output_type": "stream",
          "name": "stdout",
          "text": [
            "Drive already mounted at /content/drive; to attempt to forcibly remount, call drive.mount(\"/content/drive\", force_remount=True).\n"
          ]
        }
      ]
    },
    {
      "cell_type": "code",
      "source": [
        "ls"
      ],
      "metadata": {
        "colab": {
          "base_uri": "https://localhost:8080/"
        },
        "id": "ilvKGNmeFNfb",
        "outputId": "c09fd82d-4cdd-4acb-e32c-533fefc19c01"
      },
      "execution_count": null,
      "outputs": [
        {
          "output_type": "stream",
          "name": "stdout",
          "text": [
            "\u001b[0m\u001b[01;34mdrive\u001b[0m/  \u001b[01;34msample_data\u001b[0m/\n"
          ]
        }
      ]
    },
    {
      "cell_type": "markdown",
      "source": [
        "### 1.1 Imports"
      ],
      "metadata": {
        "id": "ibELD2vFQ5UU"
      }
    },
    {
      "cell_type": "code",
      "source": [
        "import numpy as np\n",
        "import pandas as pd\n",
        "from sklearn.model_selection import train_test_split\n",
        "import matplotlib.pyplot as plt\n",
        "import tensorflow as tf\n",
        "from sklearn.metrics import classification_report\n",
        "from sklearn.metrics import confusion_matrix\n",
        "from sklearn.metrics import ConfusionMatrixDisplay\n",
        "import time\n",
        "\n"
      ],
      "metadata": {
        "execution": {
          "iopub.status.busy": "2021-12-22T12:31:09.697655Z",
          "iopub.execute_input": "2021-12-22T12:31:09.697990Z",
          "iopub.status.idle": "2021-12-22T12:31:15.108997Z",
          "shell.execute_reply.started": "2021-12-22T12:31:09.697902Z",
          "shell.execute_reply": "2021-12-22T12:31:15.108256Z"
        },
        "trusted": true,
        "id": "NZ7PhaW6Q5Ux"
      },
      "execution_count": null,
      "outputs": []
    },
    {
      "cell_type": "markdown",
      "source": [
        "### 1.2 Check and Load GPU"
      ],
      "metadata": {
        "id": "y-kFtAwdQ5U4"
      }
    },
    {
      "cell_type": "code",
      "source": [
        "print('TensorFlow version: {}'.format(tf.__version__))\n",
        "device_name = tf.test.gpu_device_name()\n",
        "if device_name != '/device:GPU:0':\n",
        "    print('GPU device not found - On for CPU time!')\n",
        "else:\n",
        "    print('Found GPU at {}'.format(device_name))"
      ],
      "metadata": {
        "execution": {
          "iopub.status.busy": "2021-12-22T12:31:15.110516Z",
          "iopub.execute_input": "2021-12-22T12:31:15.110788Z",
          "iopub.status.idle": "2021-12-22T12:31:17.087267Z",
          "shell.execute_reply.started": "2021-12-22T12:31:15.110751Z",
          "shell.execute_reply": "2021-12-22T12:31:17.085392Z"
        },
        "trusted": true,
        "colab": {
          "base_uri": "https://localhost:8080/"
        },
        "id": "FyDdNuJ6Q5U6",
        "outputId": "bb1cd2fa-8733-4add-ea53-c0ab4fee82cc"
      },
      "execution_count": null,
      "outputs": [
        {
          "output_type": "stream",
          "name": "stdout",
          "text": [
            "TensorFlow version: 2.7.0\n",
            "Found GPU at /device:GPU:0\n"
          ]
        }
      ]
    },
    {
      "cell_type": "markdown",
      "source": [
        "# Train-Val Split"
      ],
      "metadata": {
        "id": "OBiJpWrCQ5U8"
      }
    },
    {
      "cell_type": "markdown",
      "source": [
        "# Load DataSet "
      ],
      "metadata": {
        "id": "51K3GINqQ5U-"
      }
    },
    {
      "cell_type": "code",
      "source": [
        "True_news = pd.read_csv('drive/MyDrive/True.csv')\n",
        "True_news['Class'] = 1\n",
        "True_news['c_label'] = 'Real'\n",
        "Fake_news = pd.read_csv('drive/MyDrive/Fake.csv')\n",
        "Fake_news['Class'] = 0\n",
        "Fake_news['c_label'] = 'Fake'\n",
        "\n",
        "df = pd.concat([True_news, Fake_news], axis=0, join=\"inner\")\n",
        "df=df.reset_index().drop('index',axis=1)\n",
        "df.sample(5)"
      ],
      "metadata": {
        "execution": {
          "iopub.status.busy": "2021-12-22T12:32:03.131375Z",
          "iopub.execute_input": "2021-12-22T12:32:03.131936Z",
          "iopub.status.idle": "2021-12-22T12:32:05.865106Z",
          "shell.execute_reply.started": "2021-12-22T12:32:03.131895Z",
          "shell.execute_reply": "2021-12-22T12:32:05.864437Z"
        },
        "trusted": true,
        "colab": {
          "base_uri": "https://localhost:8080/",
          "height": 206
        },
        "id": "rwpVGos6Q5U_",
        "outputId": "d918182c-fd68-4ec4-a6c8-8f2704703a01"
      },
      "execution_count": null,
      "outputs": [
        {
          "output_type": "execute_result",
          "data": {
            "text/html": [
              "\n",
              "  <div id=\"df-131cb725-6b26-400f-a6e9-0a59c3ba9f0e\">\n",
              "    <div class=\"colab-df-container\">\n",
              "      <div>\n",
              "<style scoped>\n",
              "    .dataframe tbody tr th:only-of-type {\n",
              "        vertical-align: middle;\n",
              "    }\n",
              "\n",
              "    .dataframe tbody tr th {\n",
              "        vertical-align: top;\n",
              "    }\n",
              "\n",
              "    .dataframe thead th {\n",
              "        text-align: right;\n",
              "    }\n",
              "</style>\n",
              "<table border=\"1\" class=\"dataframe\">\n",
              "  <thead>\n",
              "    <tr style=\"text-align: right;\">\n",
              "      <th></th>\n",
              "      <th>title</th>\n",
              "      <th>text</th>\n",
              "      <th>subject</th>\n",
              "      <th>date</th>\n",
              "      <th>Class</th>\n",
              "      <th>c_label</th>\n",
              "    </tr>\n",
              "  </thead>\n",
              "  <tbody>\n",
              "    <tr>\n",
              "      <th>2983</th>\n",
              "      <td>President Trump to attend Paris July 14 celebr...</td>\n",
              "      <td>PARIS (Reuters) - President Donald Trump will ...</td>\n",
              "      <td>politicsNews</td>\n",
              "      <td>June 28, 2017</td>\n",
              "      <td>1</td>\n",
              "      <td>Real</td>\n",
              "    </tr>\n",
              "    <tr>\n",
              "      <th>32959</th>\n",
              "      <td>LIVE FEED-LIVE CHAT: PRESIDENT TRUMP Addresses...</td>\n",
              "      <td></td>\n",
              "      <td>politics</td>\n",
              "      <td>Feb 28, 2017</td>\n",
              "      <td>0</td>\n",
              "      <td>Fake</td>\n",
              "    </tr>\n",
              "    <tr>\n",
              "      <th>28878</th>\n",
              "      <td>The Pope Has Some Bad News For The Ambassador...</td>\n",
              "      <td>As we all remember last year, Pope Francis mad...</td>\n",
              "      <td>News</td>\n",
              "      <td>March 16, 2016</td>\n",
              "      <td>0</td>\n",
              "      <td>Fake</td>\n",
              "    </tr>\n",
              "    <tr>\n",
              "      <th>5876</th>\n",
              "      <td>U.S. tempers part of Trump travel ban amid big...</td>\n",
              "      <td>WASHINGTON (Reuters) - President Donald Trump’...</td>\n",
              "      <td>politicsNews</td>\n",
              "      <td>January 29, 2017</td>\n",
              "      <td>1</td>\n",
              "      <td>Real</td>\n",
              "    </tr>\n",
              "    <tr>\n",
              "      <th>39883</th>\n",
              "      <td>BREAKING: WATCH TWO PROTESTERS Crash ‘Trump As...</td>\n",
              "      <td>Awesome! Two protesters crashed the  Trump Ass...</td>\n",
              "      <td>left-news</td>\n",
              "      <td>Jun 18, 2017</td>\n",
              "      <td>0</td>\n",
              "      <td>Fake</td>\n",
              "    </tr>\n",
              "  </tbody>\n",
              "</table>\n",
              "</div>\n",
              "      <button class=\"colab-df-convert\" onclick=\"convertToInteractive('df-131cb725-6b26-400f-a6e9-0a59c3ba9f0e')\"\n",
              "              title=\"Convert this dataframe to an interactive table.\"\n",
              "              style=\"display:none;\">\n",
              "        \n",
              "  <svg xmlns=\"http://www.w3.org/2000/svg\" height=\"24px\"viewBox=\"0 0 24 24\"\n",
              "       width=\"24px\">\n",
              "    <path d=\"M0 0h24v24H0V0z\" fill=\"none\"/>\n",
              "    <path d=\"M18.56 5.44l.94 2.06.94-2.06 2.06-.94-2.06-.94-.94-2.06-.94 2.06-2.06.94zm-11 1L8.5 8.5l.94-2.06 2.06-.94-2.06-.94L8.5 2.5l-.94 2.06-2.06.94zm10 10l.94 2.06.94-2.06 2.06-.94-2.06-.94-.94-2.06-.94 2.06-2.06.94z\"/><path d=\"M17.41 7.96l-1.37-1.37c-.4-.4-.92-.59-1.43-.59-.52 0-1.04.2-1.43.59L10.3 9.45l-7.72 7.72c-.78.78-.78 2.05 0 2.83L4 21.41c.39.39.9.59 1.41.59.51 0 1.02-.2 1.41-.59l7.78-7.78 2.81-2.81c.8-.78.8-2.07 0-2.86zM5.41 20L4 18.59l7.72-7.72 1.47 1.35L5.41 20z\"/>\n",
              "  </svg>\n",
              "      </button>\n",
              "      \n",
              "  <style>\n",
              "    .colab-df-container {\n",
              "      display:flex;\n",
              "      flex-wrap:wrap;\n",
              "      gap: 12px;\n",
              "    }\n",
              "\n",
              "    .colab-df-convert {\n",
              "      background-color: #E8F0FE;\n",
              "      border: none;\n",
              "      border-radius: 50%;\n",
              "      cursor: pointer;\n",
              "      display: none;\n",
              "      fill: #1967D2;\n",
              "      height: 32px;\n",
              "      padding: 0 0 0 0;\n",
              "      width: 32px;\n",
              "    }\n",
              "\n",
              "    .colab-df-convert:hover {\n",
              "      background-color: #E2EBFA;\n",
              "      box-shadow: 0px 1px 2px rgba(60, 64, 67, 0.3), 0px 1px 3px 1px rgba(60, 64, 67, 0.15);\n",
              "      fill: #174EA6;\n",
              "    }\n",
              "\n",
              "    [theme=dark] .colab-df-convert {\n",
              "      background-color: #3B4455;\n",
              "      fill: #D2E3FC;\n",
              "    }\n",
              "\n",
              "    [theme=dark] .colab-df-convert:hover {\n",
              "      background-color: #434B5C;\n",
              "      box-shadow: 0px 1px 3px 1px rgba(0, 0, 0, 0.15);\n",
              "      filter: drop-shadow(0px 1px 2px rgba(0, 0, 0, 0.3));\n",
              "      fill: #FFFFFF;\n",
              "    }\n",
              "  </style>\n",
              "\n",
              "      <script>\n",
              "        const buttonEl =\n",
              "          document.querySelector('#df-131cb725-6b26-400f-a6e9-0a59c3ba9f0e button.colab-df-convert');\n",
              "        buttonEl.style.display =\n",
              "          google.colab.kernel.accessAllowed ? 'block' : 'none';\n",
              "\n",
              "        async function convertToInteractive(key) {\n",
              "          const element = document.querySelector('#df-131cb725-6b26-400f-a6e9-0a59c3ba9f0e');\n",
              "          const dataTable =\n",
              "            await google.colab.kernel.invokeFunction('convertToInteractive',\n",
              "                                                     [key], {});\n",
              "          if (!dataTable) return;\n",
              "\n",
              "          const docLinkHtml = 'Like what you see? Visit the ' +\n",
              "            '<a target=\"_blank\" href=https://colab.research.google.com/notebooks/data_table.ipynb>data table notebook</a>'\n",
              "            + ' to learn more about interactive tables.';\n",
              "          element.innerHTML = '';\n",
              "          dataTable['output_type'] = 'display_data';\n",
              "          await google.colab.output.renderOutput(dataTable, element);\n",
              "          const docLink = document.createElement('div');\n",
              "          docLink.innerHTML = docLinkHtml;\n",
              "          element.appendChild(docLink);\n",
              "        }\n",
              "      </script>\n",
              "    </div>\n",
              "  </div>\n",
              "  "
            ],
            "text/plain": [
              "                                                   title  ... c_label\n",
              "2983   President Trump to attend Paris July 14 celebr...  ...    Real\n",
              "32959  LIVE FEED-LIVE CHAT: PRESIDENT TRUMP Addresses...  ...    Fake\n",
              "28878   The Pope Has Some Bad News For The Ambassador...  ...    Fake\n",
              "5876   U.S. tempers part of Trump travel ban amid big...  ...    Real\n",
              "39883  BREAKING: WATCH TWO PROTESTERS Crash ‘Trump As...  ...    Fake\n",
              "\n",
              "[5 rows x 6 columns]"
            ]
          },
          "metadata": {},
          "execution_count": 173
        }
      ]
    },
    {
      "cell_type": "markdown",
      "source": [
        "### 2.1 Print at least two records from each class of the dataset, for a sanity check that labels match the text"
      ],
      "metadata": {
        "id": "pmNuGVcoQ5VD"
      }
    },
    {
      "cell_type": "code",
      "source": [
        "True_news[['title','c_label']].sample(5)"
      ],
      "metadata": {
        "execution": {
          "iopub.status.busy": "2021-12-22T12:32:15.856832Z",
          "iopub.execute_input": "2021-12-22T12:32:15.857090Z",
          "iopub.status.idle": "2021-12-22T12:32:15.874803Z",
          "shell.execute_reply.started": "2021-12-22T12:32:15.857060Z",
          "shell.execute_reply": "2021-12-22T12:32:15.874091Z"
        },
        "trusted": true,
        "colab": {
          "base_uri": "https://localhost:8080/",
          "height": 206
        },
        "id": "5f26X_5FQ5VG",
        "outputId": "3ca228db-d63c-4dd7-c79d-1a08cfabf650"
      },
      "execution_count": null,
      "outputs": [
        {
          "output_type": "execute_result",
          "data": {
            "text/html": [
              "\n",
              "  <div id=\"df-3504d1af-c7bc-4e86-a606-b78202d5b832\">\n",
              "    <div class=\"colab-df-container\">\n",
              "      <div>\n",
              "<style scoped>\n",
              "    .dataframe tbody tr th:only-of-type {\n",
              "        vertical-align: middle;\n",
              "    }\n",
              "\n",
              "    .dataframe tbody tr th {\n",
              "        vertical-align: top;\n",
              "    }\n",
              "\n",
              "    .dataframe thead th {\n",
              "        text-align: right;\n",
              "    }\n",
              "</style>\n",
              "<table border=\"1\" class=\"dataframe\">\n",
              "  <thead>\n",
              "    <tr style=\"text-align: right;\">\n",
              "      <th></th>\n",
              "      <th>title</th>\n",
              "      <th>c_label</th>\n",
              "    </tr>\n",
              "  </thead>\n",
              "  <tbody>\n",
              "    <tr>\n",
              "      <th>19000</th>\n",
              "      <td>Kenyan police disperse protests against electi...</td>\n",
              "      <td>Real</td>\n",
              "    </tr>\n",
              "    <tr>\n",
              "      <th>18770</th>\n",
              "      <td>EU's Verhofstadt pokes fun at British PM May b...</td>\n",
              "      <td>Real</td>\n",
              "    </tr>\n",
              "    <tr>\n",
              "      <th>5825</th>\n",
              "      <td>U.S. Senate panel postpones hearing for Labor ...</td>\n",
              "      <td>Real</td>\n",
              "    </tr>\n",
              "    <tr>\n",
              "      <th>19409</th>\n",
              "      <td>Argentina's Macri almost certain to run for re...</td>\n",
              "      <td>Real</td>\n",
              "    </tr>\n",
              "    <tr>\n",
              "      <th>11329</th>\n",
              "      <td>Japan says revising comfort women agreement wi...</td>\n",
              "      <td>Real</td>\n",
              "    </tr>\n",
              "  </tbody>\n",
              "</table>\n",
              "</div>\n",
              "      <button class=\"colab-df-convert\" onclick=\"convertToInteractive('df-3504d1af-c7bc-4e86-a606-b78202d5b832')\"\n",
              "              title=\"Convert this dataframe to an interactive table.\"\n",
              "              style=\"display:none;\">\n",
              "        \n",
              "  <svg xmlns=\"http://www.w3.org/2000/svg\" height=\"24px\"viewBox=\"0 0 24 24\"\n",
              "       width=\"24px\">\n",
              "    <path d=\"M0 0h24v24H0V0z\" fill=\"none\"/>\n",
              "    <path d=\"M18.56 5.44l.94 2.06.94-2.06 2.06-.94-2.06-.94-.94-2.06-.94 2.06-2.06.94zm-11 1L8.5 8.5l.94-2.06 2.06-.94-2.06-.94L8.5 2.5l-.94 2.06-2.06.94zm10 10l.94 2.06.94-2.06 2.06-.94-2.06-.94-.94-2.06-.94 2.06-2.06.94z\"/><path d=\"M17.41 7.96l-1.37-1.37c-.4-.4-.92-.59-1.43-.59-.52 0-1.04.2-1.43.59L10.3 9.45l-7.72 7.72c-.78.78-.78 2.05 0 2.83L4 21.41c.39.39.9.59 1.41.59.51 0 1.02-.2 1.41-.59l7.78-7.78 2.81-2.81c.8-.78.8-2.07 0-2.86zM5.41 20L4 18.59l7.72-7.72 1.47 1.35L5.41 20z\"/>\n",
              "  </svg>\n",
              "      </button>\n",
              "      \n",
              "  <style>\n",
              "    .colab-df-container {\n",
              "      display:flex;\n",
              "      flex-wrap:wrap;\n",
              "      gap: 12px;\n",
              "    }\n",
              "\n",
              "    .colab-df-convert {\n",
              "      background-color: #E8F0FE;\n",
              "      border: none;\n",
              "      border-radius: 50%;\n",
              "      cursor: pointer;\n",
              "      display: none;\n",
              "      fill: #1967D2;\n",
              "      height: 32px;\n",
              "      padding: 0 0 0 0;\n",
              "      width: 32px;\n",
              "    }\n",
              "\n",
              "    .colab-df-convert:hover {\n",
              "      background-color: #E2EBFA;\n",
              "      box-shadow: 0px 1px 2px rgba(60, 64, 67, 0.3), 0px 1px 3px 1px rgba(60, 64, 67, 0.15);\n",
              "      fill: #174EA6;\n",
              "    }\n",
              "\n",
              "    [theme=dark] .colab-df-convert {\n",
              "      background-color: #3B4455;\n",
              "      fill: #D2E3FC;\n",
              "    }\n",
              "\n",
              "    [theme=dark] .colab-df-convert:hover {\n",
              "      background-color: #434B5C;\n",
              "      box-shadow: 0px 1px 3px 1px rgba(0, 0, 0, 0.15);\n",
              "      filter: drop-shadow(0px 1px 2px rgba(0, 0, 0, 0.3));\n",
              "      fill: #FFFFFF;\n",
              "    }\n",
              "  </style>\n",
              "\n",
              "      <script>\n",
              "        const buttonEl =\n",
              "          document.querySelector('#df-3504d1af-c7bc-4e86-a606-b78202d5b832 button.colab-df-convert');\n",
              "        buttonEl.style.display =\n",
              "          google.colab.kernel.accessAllowed ? 'block' : 'none';\n",
              "\n",
              "        async function convertToInteractive(key) {\n",
              "          const element = document.querySelector('#df-3504d1af-c7bc-4e86-a606-b78202d5b832');\n",
              "          const dataTable =\n",
              "            await google.colab.kernel.invokeFunction('convertToInteractive',\n",
              "                                                     [key], {});\n",
              "          if (!dataTable) return;\n",
              "\n",
              "          const docLinkHtml = 'Like what you see? Visit the ' +\n",
              "            '<a target=\"_blank\" href=https://colab.research.google.com/notebooks/data_table.ipynb>data table notebook</a>'\n",
              "            + ' to learn more about interactive tables.';\n",
              "          element.innerHTML = '';\n",
              "          dataTable['output_type'] = 'display_data';\n",
              "          await google.colab.output.renderOutput(dataTable, element);\n",
              "          const docLink = document.createElement('div');\n",
              "          docLink.innerHTML = docLinkHtml;\n",
              "          element.appendChild(docLink);\n",
              "        }\n",
              "      </script>\n",
              "    </div>\n",
              "  </div>\n",
              "  "
            ],
            "text/plain": [
              "                                                   title c_label\n",
              "19000  Kenyan police disperse protests against electi...    Real\n",
              "18770  EU's Verhofstadt pokes fun at British PM May b...    Real\n",
              "5825   U.S. Senate panel postpones hearing for Labor ...    Real\n",
              "19409  Argentina's Macri almost certain to run for re...    Real\n",
              "11329  Japan says revising comfort women agreement wi...    Real"
            ]
          },
          "metadata": {},
          "execution_count": 174
        }
      ]
    },
    {
      "cell_type": "code",
      "source": [
        "Fake_news[['title','c_label']].sample(5)"
      ],
      "metadata": {
        "execution": {
          "iopub.status.busy": "2021-12-22T12:32:40.115932Z",
          "iopub.execute_input": "2021-12-22T12:32:40.116213Z",
          "iopub.status.idle": "2021-12-22T12:32:40.134637Z",
          "shell.execute_reply.started": "2021-12-22T12:32:40.116162Z",
          "shell.execute_reply": "2021-12-22T12:32:40.133937Z"
        },
        "trusted": true,
        "colab": {
          "base_uri": "https://localhost:8080/",
          "height": 206
        },
        "id": "ktixzzc5Q5VI",
        "outputId": "66e35cb1-0b56-40d1-e434-dae76c161ce4"
      },
      "execution_count": null,
      "outputs": [
        {
          "output_type": "execute_result",
          "data": {
            "text/html": [
              "\n",
              "  <div id=\"df-1148c58e-b64b-4e17-9ae7-897c69a51e33\">\n",
              "    <div class=\"colab-df-container\">\n",
              "      <div>\n",
              "<style scoped>\n",
              "    .dataframe tbody tr th:only-of-type {\n",
              "        vertical-align: middle;\n",
              "    }\n",
              "\n",
              "    .dataframe tbody tr th {\n",
              "        vertical-align: top;\n",
              "    }\n",
              "\n",
              "    .dataframe thead th {\n",
              "        text-align: right;\n",
              "    }\n",
              "</style>\n",
              "<table border=\"1\" class=\"dataframe\">\n",
              "  <thead>\n",
              "    <tr style=\"text-align: right;\">\n",
              "      <th></th>\n",
              "      <th>title</th>\n",
              "      <th>c_label</th>\n",
              "    </tr>\n",
              "  </thead>\n",
              "  <tbody>\n",
              "    <tr>\n",
              "      <th>14965</th>\n",
              "      <td>BREAKING: Obama Campaigned For But Now Rejects...</td>\n",
              "      <td>Fake</td>\n",
              "    </tr>\n",
              "    <tr>\n",
              "      <th>8805</th>\n",
              "      <td>President Obama: Surely, Trump Can Only Be Pr...</td>\n",
              "      <td>Fake</td>\n",
              "    </tr>\n",
              "    <tr>\n",
              "      <th>1020</th>\n",
              "      <td>Trump Might Have Just Put Himself In Prison W...</td>\n",
              "      <td>Fake</td>\n",
              "    </tr>\n",
              "    <tr>\n",
              "      <th>4865</th>\n",
              "      <td>WATCH: Chuck Todd BLISTERS RNC Chair Over Tru...</td>\n",
              "      <td>Fake</td>\n",
              "    </tr>\n",
              "    <tr>\n",
              "      <th>13527</th>\n",
              "      <td>ONLY DAYS AGO…BATON ROUGE THUG, #BlackLives Ma...</td>\n",
              "      <td>Fake</td>\n",
              "    </tr>\n",
              "  </tbody>\n",
              "</table>\n",
              "</div>\n",
              "      <button class=\"colab-df-convert\" onclick=\"convertToInteractive('df-1148c58e-b64b-4e17-9ae7-897c69a51e33')\"\n",
              "              title=\"Convert this dataframe to an interactive table.\"\n",
              "              style=\"display:none;\">\n",
              "        \n",
              "  <svg xmlns=\"http://www.w3.org/2000/svg\" height=\"24px\"viewBox=\"0 0 24 24\"\n",
              "       width=\"24px\">\n",
              "    <path d=\"M0 0h24v24H0V0z\" fill=\"none\"/>\n",
              "    <path d=\"M18.56 5.44l.94 2.06.94-2.06 2.06-.94-2.06-.94-.94-2.06-.94 2.06-2.06.94zm-11 1L8.5 8.5l.94-2.06 2.06-.94-2.06-.94L8.5 2.5l-.94 2.06-2.06.94zm10 10l.94 2.06.94-2.06 2.06-.94-2.06-.94-.94-2.06-.94 2.06-2.06.94z\"/><path d=\"M17.41 7.96l-1.37-1.37c-.4-.4-.92-.59-1.43-.59-.52 0-1.04.2-1.43.59L10.3 9.45l-7.72 7.72c-.78.78-.78 2.05 0 2.83L4 21.41c.39.39.9.59 1.41.59.51 0 1.02-.2 1.41-.59l7.78-7.78 2.81-2.81c.8-.78.8-2.07 0-2.86zM5.41 20L4 18.59l7.72-7.72 1.47 1.35L5.41 20z\"/>\n",
              "  </svg>\n",
              "      </button>\n",
              "      \n",
              "  <style>\n",
              "    .colab-df-container {\n",
              "      display:flex;\n",
              "      flex-wrap:wrap;\n",
              "      gap: 12px;\n",
              "    }\n",
              "\n",
              "    .colab-df-convert {\n",
              "      background-color: #E8F0FE;\n",
              "      border: none;\n",
              "      border-radius: 50%;\n",
              "      cursor: pointer;\n",
              "      display: none;\n",
              "      fill: #1967D2;\n",
              "      height: 32px;\n",
              "      padding: 0 0 0 0;\n",
              "      width: 32px;\n",
              "    }\n",
              "\n",
              "    .colab-df-convert:hover {\n",
              "      background-color: #E2EBFA;\n",
              "      box-shadow: 0px 1px 2px rgba(60, 64, 67, 0.3), 0px 1px 3px 1px rgba(60, 64, 67, 0.15);\n",
              "      fill: #174EA6;\n",
              "    }\n",
              "\n",
              "    [theme=dark] .colab-df-convert {\n",
              "      background-color: #3B4455;\n",
              "      fill: #D2E3FC;\n",
              "    }\n",
              "\n",
              "    [theme=dark] .colab-df-convert:hover {\n",
              "      background-color: #434B5C;\n",
              "      box-shadow: 0px 1px 3px 1px rgba(0, 0, 0, 0.15);\n",
              "      filter: drop-shadow(0px 1px 2px rgba(0, 0, 0, 0.3));\n",
              "      fill: #FFFFFF;\n",
              "    }\n",
              "  </style>\n",
              "\n",
              "      <script>\n",
              "        const buttonEl =\n",
              "          document.querySelector('#df-1148c58e-b64b-4e17-9ae7-897c69a51e33 button.colab-df-convert');\n",
              "        buttonEl.style.display =\n",
              "          google.colab.kernel.accessAllowed ? 'block' : 'none';\n",
              "\n",
              "        async function convertToInteractive(key) {\n",
              "          const element = document.querySelector('#df-1148c58e-b64b-4e17-9ae7-897c69a51e33');\n",
              "          const dataTable =\n",
              "            await google.colab.kernel.invokeFunction('convertToInteractive',\n",
              "                                                     [key], {});\n",
              "          if (!dataTable) return;\n",
              "\n",
              "          const docLinkHtml = 'Like what you see? Visit the ' +\n",
              "            '<a target=\"_blank\" href=https://colab.research.google.com/notebooks/data_table.ipynb>data table notebook</a>'\n",
              "            + ' to learn more about interactive tables.';\n",
              "          element.innerHTML = '';\n",
              "          dataTable['output_type'] = 'display_data';\n",
              "          await google.colab.output.renderOutput(dataTable, element);\n",
              "          const docLink = document.createElement('div');\n",
              "          docLink.innerHTML = docLinkHtml;\n",
              "          element.appendChild(docLink);\n",
              "        }\n",
              "      </script>\n",
              "    </div>\n",
              "  </div>\n",
              "  "
            ],
            "text/plain": [
              "                                                   title c_label\n",
              "14965  BREAKING: Obama Campaigned For But Now Rejects...    Fake\n",
              "8805    President Obama: Surely, Trump Can Only Be Pr...    Fake\n",
              "1020    Trump Might Have Just Put Himself In Prison W...    Fake\n",
              "4865    WATCH: Chuck Todd BLISTERS RNC Chair Over Tru...    Fake\n",
              "13527  ONLY DAYS AGO…BATON ROUGE THUG, #BlackLives Ma...    Fake"
            ]
          },
          "metadata": {},
          "execution_count": 175
        }
      ]
    },
    {
      "cell_type": "markdown",
      "source": [
        "### 2.2 Plot a bar graph of class distribution in the dataset. Each bar depicts the number of records belonging to a particular class in the dataset"
      ],
      "metadata": {
        "id": "V9WYbmsCQ5VK"
      }
    },
    {
      "cell_type": "code",
      "source": [
        "class_counts = df.c_label.value_counts()\n",
        "class_counts"
      ],
      "metadata": {
        "execution": {
          "iopub.status.busy": "2021-12-22T12:36:24.678709Z",
          "iopub.execute_input": "2021-12-22T12:36:24.678958Z",
          "iopub.status.idle": "2021-12-22T12:36:24.694739Z",
          "shell.execute_reply.started": "2021-12-22T12:36:24.678929Z",
          "shell.execute_reply": "2021-12-22T12:36:24.693876Z"
        },
        "trusted": true,
        "colab": {
          "base_uri": "https://localhost:8080/"
        },
        "id": "8byaunfgQ5VL",
        "outputId": "a3d56bd7-31a9-4af8-e43d-d3821e8d13c5"
      },
      "execution_count": null,
      "outputs": [
        {
          "output_type": "execute_result",
          "data": {
            "text/plain": [
              "Fake    23481\n",
              "Real    21417\n",
              "Name: c_label, dtype: int64"
            ]
          },
          "metadata": {},
          "execution_count": 176
        }
      ]
    },
    {
      "cell_type": "code",
      "source": [
        "plt.title('Class count')\n",
        "plt.bar(class_counts.index,class_counts.values)\n",
        "xlocs = [i for i in range(class_counts.shape[0])]\n",
        "for i, v in enumerate(class_counts.values):\n",
        "    plt.text(xlocs[i] , v, str(v))\n",
        "\n"
      ],
      "metadata": {
        "execution": {
          "iopub.status.busy": "2021-12-22T12:37:17.225208Z",
          "iopub.execute_input": "2021-12-22T12:37:17.225857Z",
          "iopub.status.idle": "2021-12-22T12:37:17.381266Z",
          "shell.execute_reply.started": "2021-12-22T12:37:17.225819Z",
          "shell.execute_reply": "2021-12-22T12:37:17.380539Z"
        },
        "trusted": true,
        "colab": {
          "base_uri": "https://localhost:8080/",
          "height": 281
        },
        "id": "FfD36q48Q5VN",
        "outputId": "487f357e-5f44-441a-f5ee-cac64d333b95"
      },
      "execution_count": null,
      "outputs": [
        {
          "output_type": "display_data",
          "data": {
            "image/png": "[encoded data removed]",
            "text/plain": [
              "<Figure size 432x288 with 1 Axes>"
            ]
          },
          "metadata": {
            "needs_background": "light"
          }
        }
      ]
    },
    {
      "cell_type": "markdown",
      "source": [
        "# Cleaning\n",
        " 1. Removing punctutation and numbers. \n",
        " 2. Replacing extra spaces with single space.   \n",
        " santiy check of formatting"
      ],
      "metadata": {
        "id": "gr-ZgRmZQ5VP"
      }
    },
    {
      "cell_type": "code",
      "source": [
        "def clean_text(text):\n",
        "    chars = ',<.>/?;:\"[{}]|)(*&^%$#@!=+-_0123456789'\n",
        "    text = text.lower()\n",
        "    for l in chars:\n",
        "        text = text.replace(l, str(' '+l+' '))\n",
        "        text = text.replace('  ',' ')\n",
        "    return text"
      ],
      "metadata": {
        "id": "YekvkUT8D_5m"
      },
      "execution_count": null,
      "outputs": []
    },
    {
      "cell_type": "code",
      "source": [
        "temp = pd.Series([clean_text(i) for i in df.loc[:,'title'].tolist()])"
      ],
      "metadata": {
        "id": "YBp6Yj2uD__L"
      },
      "execution_count": null,
      "outputs": []
    },
    {
      "cell_type": "code",
      "source": [
        "df['mtitle']=temp"
      ],
      "metadata": {
        "id": "ZTnPF85ZF-yz"
      },
      "execution_count": null,
      "outputs": []
    },
    {
      "cell_type": "code",
      "source": [
        "df.loc[:,['title','mtitle']].sample(10)"
      ],
      "metadata": {
        "colab": {
          "base_uri": "https://localhost:8080/",
          "height": 363
        },
        "id": "H2h8OnKZEIiL",
        "outputId": "ea2c7611-8e9a-46bf-b3ea-d83573297edf"
      },
      "execution_count": null,
      "outputs": [
        {
          "output_type": "execute_result",
          "data": {
            "text/html": [
              "\n",
              "  <div id=\"df-4e568b28-3aa1-4199-8a1f-dcea51aad73c\">\n",
              "    <div class=\"colab-df-container\">\n",
              "      <div>\n",
              "<style scoped>\n",
              "    .dataframe tbody tr th:only-of-type {\n",
              "        vertical-align: middle;\n",
              "    }\n",
              "\n",
              "    .dataframe tbody tr th {\n",
              "        vertical-align: top;\n",
              "    }\n",
              "\n",
              "    .dataframe thead th {\n",
              "        text-align: right;\n",
              "    }\n",
              "</style>\n",
              "<table border=\"1\" class=\"dataframe\">\n",
              "  <thead>\n",
              "    <tr style=\"text-align: right;\">\n",
              "      <th></th>\n",
              "      <th>title</th>\n",
              "      <th>mtitle</th>\n",
              "    </tr>\n",
              "  </thead>\n",
              "  <tbody>\n",
              "    <tr>\n",
              "      <th>32040</th>\n",
              "      <td>#CongressionalBaseballGame Shooter Identified:...</td>\n",
              "      <td># congressionalbaseballgame shooter identifie...</td>\n",
              "    </tr>\n",
              "    <tr>\n",
              "      <th>3885</th>\n",
              "      <td>Rice chides Trump for criticism of judges, media</td>\n",
              "      <td>rice chides trump for criticism of judges , media</td>\n",
              "    </tr>\n",
              "    <tr>\n",
              "      <th>27488</th>\n",
              "      <td>Judge Recommends Joe Arpaio For Criminal Pros...</td>\n",
              "      <td>judge recommends joe arpaio for criminal pros...</td>\n",
              "    </tr>\n",
              "    <tr>\n",
              "      <th>40860</th>\n",
              "      <td>BEST MELTDOWN OF 2016! TUCKER CARLSON BLASTS S...</td>\n",
              "      <td>best meltdown of 2 0 1 6 ! tucker carlson blas...</td>\n",
              "    </tr>\n",
              "    <tr>\n",
              "      <th>8878</th>\n",
              "      <td>Speaker Ryan: declining to prosecute Clinton b...</td>\n",
              "      <td>speaker ryan : declining to prosecute clinton ...</td>\n",
              "    </tr>\n",
              "    <tr>\n",
              "      <th>36617</th>\n",
              "      <td>PRIORITIES: Who Does Obama Invite To White Hou...</td>\n",
              "      <td>priorities : who does obama invite to white ho...</td>\n",
              "    </tr>\n",
              "    <tr>\n",
              "      <th>20513</th>\n",
              "      <td>Havana braced for floods after Hurricane Irma ...</td>\n",
              "      <td>havana braced for floods after hurricane irma ...</td>\n",
              "    </tr>\n",
              "    <tr>\n",
              "      <th>43195</th>\n",
              "      <td>MOOCH SAYS BLACK KIDS AREN’T AS WELCOME IN MUS...</td>\n",
              "      <td>mooch says black kids aren’t as welcome in mus...</td>\n",
              "    </tr>\n",
              "    <tr>\n",
              "      <th>6841</th>\n",
              "      <td>Trump to meet with Chicago mayor, North Caroli...</td>\n",
              "      <td>trump to meet with chicago mayor , north carol...</td>\n",
              "    </tr>\n",
              "    <tr>\n",
              "      <th>34411</th>\n",
              "      <td>MICHELLE OBAMA TO HILLARY: “If You Can’t Run Y...</td>\n",
              "      <td>michelle obama to hillary : “if you can’t run ...</td>\n",
              "    </tr>\n",
              "  </tbody>\n",
              "</table>\n",
              "</div>\n",
              "      <button class=\"colab-df-convert\" onclick=\"convertToInteractive('df-4e568b28-3aa1-4199-8a1f-dcea51aad73c')\"\n",
              "              title=\"Convert this dataframe to an interactive table.\"\n",
              "              style=\"display:none;\">\n",
              "        \n",
              "  <svg xmlns=\"http://www.w3.org/2000/svg\" height=\"24px\"viewBox=\"0 0 24 24\"\n",
              "       width=\"24px\">\n",
              "    <path d=\"M0 0h24v24H0V0z\" fill=\"none\"/>\n",
              "    <path d=\"M18.56 5.44l.94 2.06.94-2.06 2.06-.94-2.06-.94-.94-2.06-.94 2.06-2.06.94zm-11 1L8.5 8.5l.94-2.06 2.06-.94-2.06-.94L8.5 2.5l-.94 2.06-2.06.94zm10 10l.94 2.06.94-2.06 2.06-.94-2.06-.94-.94-2.06-.94 2.06-2.06.94z\"/><path d=\"M17.41 7.96l-1.37-1.37c-.4-.4-.92-.59-1.43-.59-.52 0-1.04.2-1.43.59L10.3 9.45l-7.72 7.72c-.78.78-.78 2.05 0 2.83L4 21.41c.39.39.9.59 1.41.59.51 0 1.02-.2 1.41-.59l7.78-7.78 2.81-2.81c.8-.78.8-2.07 0-2.86zM5.41 20L4 18.59l7.72-7.72 1.47 1.35L5.41 20z\"/>\n",
              "  </svg>\n",
              "      </button>\n",
              "      \n",
              "  <style>\n",
              "    .colab-df-container {\n",
              "      display:flex;\n",
              "      flex-wrap:wrap;\n",
              "      gap: 12px;\n",
              "    }\n",
              "\n",
              "    .colab-df-convert {\n",
              "      background-color: #E8F0FE;\n",
              "      border: none;\n",
              "      border-radius: 50%;\n",
              "      cursor: pointer;\n",
              "      display: none;\n",
              "      fill: #1967D2;\n",
              "      height: 32px;\n",
              "      padding: 0 0 0 0;\n",
              "      width: 32px;\n",
              "    }\n",
              "\n",
              "    .colab-df-convert:hover {\n",
              "      background-color: #E2EBFA;\n",
              "      box-shadow: 0px 1px 2px rgba(60, 64, 67, 0.3), 0px 1px 3px 1px rgba(60, 64, 67, 0.15);\n",
              "      fill: #174EA6;\n",
              "    }\n",
              "\n",
              "    [theme=dark] .colab-df-convert {\n",
              "      background-color: #3B4455;\n",
              "      fill: #D2E3FC;\n",
              "    }\n",
              "\n",
              "    [theme=dark] .colab-df-convert:hover {\n",
              "      background-color: #434B5C;\n",
              "      box-shadow: 0px 1px 3px 1px rgba(0, 0, 0, 0.15);\n",
              "      filter: drop-shadow(0px 1px 2px rgba(0, 0, 0, 0.3));\n",
              "      fill: #FFFFFF;\n",
              "    }\n",
              "  </style>\n",
              "\n",
              "      <script>\n",
              "        const buttonEl =\n",
              "          document.querySelector('#df-4e568b28-3aa1-4199-8a1f-dcea51aad73c button.colab-df-convert');\n",
              "        buttonEl.style.display =\n",
              "          google.colab.kernel.accessAllowed ? 'block' : 'none';\n",
              "\n",
              "        async function convertToInteractive(key) {\n",
              "          const element = document.querySelector('#df-4e568b28-3aa1-4199-8a1f-dcea51aad73c');\n",
              "          const dataTable =\n",
              "            await google.colab.kernel.invokeFunction('convertToInteractive',\n",
              "                                                     [key], {});\n",
              "          if (!dataTable) return;\n",
              "\n",
              "          const docLinkHtml = 'Like what you see? Visit the ' +\n",
              "            '<a target=\"_blank\" href=https://colab.research.google.com/notebooks/data_table.ipynb>data table notebook</a>'\n",
              "            + ' to learn more about interactive tables.';\n",
              "          element.innerHTML = '';\n",
              "          dataTable['output_type'] = 'display_data';\n",
              "          await google.colab.output.renderOutput(dataTable, element);\n",
              "          const docLink = document.createElement('div');\n",
              "          docLink.innerHTML = docLinkHtml;\n",
              "          element.appendChild(docLink);\n",
              "        }\n",
              "      </script>\n",
              "    </div>\n",
              "  </div>\n",
              "  "
            ],
            "text/plain": [
              "                                                   title                                             mtitle\n",
              "32040  #CongressionalBaseballGame Shooter Identified:...   # congressionalbaseballgame shooter identifie...\n",
              "3885    Rice chides Trump for criticism of judges, media  rice chides trump for criticism of judges , media\n",
              "27488   Judge Recommends Joe Arpaio For Criminal Pros...   judge recommends joe arpaio for criminal pros...\n",
              "40860  BEST MELTDOWN OF 2016! TUCKER CARLSON BLASTS S...  best meltdown of 2 0 1 6 ! tucker carlson blas...\n",
              "8878   Speaker Ryan: declining to prosecute Clinton b...  speaker ryan : declining to prosecute clinton ...\n",
              "36617  PRIORITIES: Who Does Obama Invite To White Hou...  priorities : who does obama invite to white ho...\n",
              "20513  Havana braced for floods after Hurricane Irma ...  havana braced for floods after hurricane irma ...\n",
              "43195  MOOCH SAYS BLACK KIDS AREN’T AS WELCOME IN MUS...  mooch says black kids aren’t as welcome in mus...\n",
              "6841   Trump to meet with Chicago mayor, North Caroli...  trump to meet with chicago mayor , north carol...\n",
              "34411  MICHELLE OBAMA TO HILLARY: “If You Can’t Run Y...  michelle obama to hillary : “if you can’t run ..."
            ]
          },
          "metadata": {},
          "execution_count": 181
        }
      ]
    },
    {
      "cell_type": "markdown",
      "source": [
        "# test train split"
      ],
      "metadata": {
        "id": "0Zw1OTDTQ5VU"
      }
    },
    {
      "cell_type": "code",
      "source": [
        "X_train, X_test, y_train, y_test = train_test_split(df['mtitle'],df['Class'] , test_size=0.33, random_state=42)\n"
      ],
      "metadata": {
        "execution": {
          "iopub.status.busy": "2021-12-22T12:40:32.108655Z",
          "iopub.execute_input": "2021-12-22T12:40:32.108902Z",
          "iopub.status.idle": "2021-12-22T12:40:32.129623Z",
          "shell.execute_reply.started": "2021-12-22T12:40:32.108873Z",
          "shell.execute_reply": "2021-12-22T12:40:32.128928Z"
        },
        "trusted": true,
        "id": "FWwA06BzQ5VV"
      },
      "execution_count": null,
      "outputs": []
    },
    {
      "cell_type": "markdown",
      "source": [
        "### 2.4  Print the shapes of train, validation and test data."
      ],
      "metadata": {
        "id": "7Tn8WfwcQ5VW"
      }
    },
    {
      "cell_type": "code",
      "source": [
        "X_val,y_val= X_train[25000:],y_train[25000:]\n",
        "X_train,y_train=X_train[:25000],y_train[:25000]\n",
        "X_test_copy=X_test"
      ],
      "metadata": {
        "execution": {
          "iopub.status.busy": "2021-12-22T12:46:52.716051Z",
          "iopub.execute_input": "2021-12-22T12:46:52.716564Z",
          "iopub.status.idle": "2021-12-22T12:46:52.720550Z",
          "shell.execute_reply.started": "2021-12-22T12:46:52.716521Z",
          "shell.execute_reply": "2021-12-22T12:46:52.719887Z"
        },
        "trusted": true,
        "id": "9FGPAzZIQ5Va"
      },
      "execution_count": null,
      "outputs": []
    },
    {
      "cell_type": "code",
      "source": [
        "print('Train data size id',X_train.shape)\n",
        "print('Validation data size id',X_val.shape)\n",
        "print('Test data size id',X_test.shape)"
      ],
      "metadata": {
        "colab": {
          "base_uri": "https://localhost:8080/"
        },
        "id": "GvvH8m3zI0ja",
        "outputId": "64214f33-9597-494a-dc33-5e26ea2d7766"
      },
      "execution_count": null,
      "outputs": [
        {
          "output_type": "stream",
          "name": "stdout",
          "text": [
            "Train data size id (25000,)\n",
            "Validation data size id (5081,)\n",
            "Test data size id (14817,)\n"
          ]
        }
      ]
    },
    {
      "cell_type": "code",
      "source": [
        "X_train"
      ],
      "metadata": {
        "colab": {
          "base_uri": "https://localhost:8080/"
        },
        "id": "L7KV3tafJj1m",
        "outputId": "188c9ec8-a382-4cf3-fb10-a0f38221f4f1"
      },
      "execution_count": null,
      "outputs": [
        {
          "output_type": "execute_result",
          "data": {
            "text/plain": [
              "30885    panda ‘photobombs’ melania trump on trip to be...\n",
              "40751    obama makes stunning 1 1 th hour gift of massi...\n",
              "603      u . s . interior secretary fails to provide pa...\n",
              "32002    breaking : watch two protesters crash ‘trump a...\n",
              "7102     north carolina governor requests vote recount ...\n",
              "                               ...                        \n",
              "14191    arrested indonesian parliament speaker pleads ...\n",
              "18581    anti - government chants ring out on anniversa...\n",
              "20435    philippines seeks big cut in drug rehab budget...\n",
              "17600    turkey issues detention warrants for 1 1 5 peo...\n",
              "27938     great job , gop : white supremacists so happy...\n",
              "Name: mtitle, Length: 25000, dtype: object"
            ]
          },
          "metadata": {},
          "execution_count": 185
        }
      ]
    },
    {
      "cell_type": "markdown",
      "source": [
        "## 3 Datapreprocessing\n",
        "using [tfhub pretrained embedding model](https://tfhub.dev/google/nnlm-en-dim128/1)\n",
        "convert text sequence to a vectoer of size 128.\n",
        "\n",
        " "
      ],
      "metadata": {
        "id": "n_qfQM56YQQd"
      }
    },
    {
      "cell_type": "code",
      "source": [
        "#import tensorflow_hub as hub\n",
        "import tensorflow as tf\n",
        "import tensorflow_hub as hub\n",
        "\n",
        "hub_url = \"https://tfhub.dev/google/nnlm-en-dim128/2\"\n",
        "embed = hub.KerasLayer(hub_url)"
      ],
      "metadata": {
        "id": "LSNPeOy0_QTH"
      },
      "execution_count": null,
      "outputs": []
    },
    {
      "cell_type": "code",
      "source": [
        "X_train,X_val,X_test=embed(X_train),embed(X_val),embed(X_test)"
      ],
      "metadata": {
        "id": "yHUDfe1oJObY"
      },
      "execution_count": null,
      "outputs": []
    },
    {
      "cell_type": "code",
      "source": [
        "print(X_train.shape,X_val.shape,X_test.shape)"
      ],
      "metadata": {
        "colab": {
          "base_uri": "https://localhost:8080/"
        },
        "id": "SjgMC03IJ_-Y",
        "outputId": "44f43e56-1833-4a55-f076-7df4f3053f08"
      },
      "execution_count": null,
      "outputs": [
        {
          "output_type": "stream",
          "name": "stdout",
          "text": [
            "(25000, 128) (5081, 128) (14817, 128)\n"
          ]
        }
      ]
    },
    {
      "cell_type": "markdown",
      "source": [
        "### 4. Model Building\n",
        "\n",
        "1. Only fully connected layers, with decreasing number of hidden units were implemented.[ input, 64,32,10,1] and with relu activation function.\n",
        "2. L2 norm is added for every dense layer.\n",
        "3. Dropout(rate=0.5) is added at layer with 64 hidden units, because chance of coadaptation is high for layers with more hidden units.   \n",
        "\n",
        "##### References\n",
        "1. https://machinelearningmastery.com/choose-an-activation-function-for-deep-learning/\n",
        "2. https://www.geeksforgeeks.org/dropout-in-neural-networks/"
      ],
      "metadata": {
        "id": "jx5PmQ5z_sME"
      }
    },
    {
      "cell_type": "code",
      "source": [
        "model = tf.keras.Sequential()\n",
        "model.add(tf.keras.Input(shape=(128)))\n",
        "model.add(tf.keras.layers.Dense(64,kernel_regularizer='l2', activation='relu'))\n",
        "model.add(tf.keras.layers.Dropout(0.5))# drop out for layer with 64 hidden units\n",
        "model.add(tf.keras.layers.Dense(32,kernel_regularizer='l2', activation='relu'))\n",
        "model.add(tf.keras.layers.Dense(10,kernel_regularizer='l2', activation='relu'))\n",
        "model.add(tf.keras.layers.Dense(1,kernel_regularizer='l2', activation='sigmoid'))\n",
        "model.summary()\n"
      ],
      "metadata": {
        "colab": {
          "base_uri": "https://localhost:8080/"
        },
        "id": "JnJj_geAIxHY",
        "outputId": "8adb8593-2c25-4b7e-b2c2-34ed6e8842e7"
      },
      "execution_count": null,
      "outputs": [
        {
          "output_type": "stream",
          "name": "stdout",
          "text": [
            "Model: \"sequential_14\"\n",
            "_________________________________________________________________\n",
            " Layer (type)                Output Shape              Param #   \n",
            "=================================================================\n",
            " dense_56 (Dense)            (None, 64)                8256      \n",
            "                                                                 \n",
            " dropout_14 (Dropout)        (None, 64)                0         \n",
            "                                                                 \n",
            " dense_57 (Dense)            (None, 32)                2080      \n",
            "                                                                 \n",
            " dense_58 (Dense)            (None, 10)                330       \n",
            "                                                                 \n",
            " dense_59 (Dense)            (None, 1)                 11        \n",
            "                                                                 \n",
            "=================================================================\n",
            "Total params: 10,677\n",
            "Trainable params: 10,677\n",
            "Non-trainable params: 0\n",
            "_________________________________________________________________\n"
          ]
        }
      ]
    },
    {
      "cell_type": "markdown",
      "source": [
        "### 5. Model Compilation\n",
        "1. loss function is binary cross entropy, since modelis binary classification.\n",
        "2. ADAM optimiser is used since \"The method computes individual adaptive learning rates for different parameters from estimates of first and second moments of the gradients\". learning rate is chose small value to avoid jumping over the minima.\n",
        "\n",
        "#### Refences\n",
        "1. https://machinelearningmastery.com/adam-optimization-algorithm-for-deep-learning/ "
      ],
      "metadata": {
        "id": "qWdiWODUQ5qn"
      }
    },
    {
      "cell_type": "code",
      "source": [
        "model.compile(optimizer=tf.keras.optimizers.Adam(learning_rate=0.0001),\n",
        "             loss=tf.keras.losses.BinaryCrossentropy(),\n",
        "             metrics=tf.keras.metrics.BinaryAccuracy())"
      ],
      "metadata": {
        "id": "LKAfsQ56N6XU"
      },
      "execution_count": null,
      "outputs": []
    },
    {
      "cell_type": "markdown",
      "source": [
        "### 6. Model Training"
      ],
      "metadata": {
        "id": "tztQ0UlvQ9jW"
      }
    },
    {
      "cell_type": "code",
      "source": [
        "start= time.perf_counter()\n",
        "history=model.fit(x=X_train,y= y_train, epochs=25, batch_size=100,validation_data=(X_val,y_val) )\n",
        "elapsed = time.perf_counter() - start"
      ],
      "metadata": {
        "colab": {
          "base_uri": "https://localhost:8080/"
        },
        "id": "fbUBS6agQ5Vc",
        "outputId": "58e5122e-9dd1-43ea-f9dc-9e31a5cc1c73"
      },
      "execution_count": null,
      "outputs": [
        {
          "output_type": "stream",
          "name": "stdout",
          "text": [
            "Epoch 1/25\n",
            "250/250 [==============================] - 2s 5ms/step - loss: 1.9253 - binary_accuracy: 0.5555 - val_loss: 1.7174 - val_binary_accuracy: 0.6709\n",
            "Epoch 2/25\n",
            "250/250 [==============================] - 1s 4ms/step - loss: 1.5539 - binary_accuracy: 0.6490 - val_loss: 1.4006 - val_binary_accuracy: 0.7532\n",
            "Epoch 3/25\n",
            "250/250 [==============================] - 1s 4ms/step - loss: 1.2800 - binary_accuracy: 0.7313 - val_loss: 1.1572 - val_binary_accuracy: 0.8303\n",
            "Epoch 4/25\n",
            "250/250 [==============================] - 1s 4ms/step - loss: 1.0608 - binary_accuracy: 0.8029 - val_loss: 0.9445 - val_binary_accuracy: 0.8697\n",
            "Epoch 5/25\n",
            "250/250 [==============================] - 1s 4ms/step - loss: 0.8661 - binary_accuracy: 0.8422 - val_loss: 0.7611 - val_binary_accuracy: 0.8825\n",
            "Epoch 6/25\n",
            "250/250 [==============================] - 1s 4ms/step - loss: 0.7241 - binary_accuracy: 0.8603 - val_loss: 0.6487 - val_binary_accuracy: 0.8860\n",
            "Epoch 7/25\n",
            "250/250 [==============================] - 1s 4ms/step - loss: 0.6399 - binary_accuracy: 0.8674 - val_loss: 0.5830 - val_binary_accuracy: 0.8920\n",
            "Epoch 8/25\n",
            "250/250 [==============================] - 1s 4ms/step - loss: 0.5867 - binary_accuracy: 0.8761 - val_loss: 0.5407 - val_binary_accuracy: 0.8963\n",
            "Epoch 9/25\n",
            "250/250 [==============================] - 1s 4ms/step - loss: 0.5489 - binary_accuracy: 0.8801 - val_loss: 0.5115 - val_binary_accuracy: 0.8992\n",
            "Epoch 10/25\n",
            "250/250 [==============================] - 1s 4ms/step - loss: 0.5260 - binary_accuracy: 0.8806 - val_loss: 0.4904 - val_binary_accuracy: 0.9000\n",
            "Epoch 11/25\n",
            "250/250 [==============================] - 1s 4ms/step - loss: 0.5048 - binary_accuracy: 0.8856 - val_loss: 0.4749 - val_binary_accuracy: 0.9008\n",
            "Epoch 12/25\n",
            "250/250 [==============================] - 1s 4ms/step - loss: 0.4915 - binary_accuracy: 0.8878 - val_loss: 0.4633 - val_binary_accuracy: 0.9032\n",
            "Epoch 13/25\n",
            "250/250 [==============================] - 1s 4ms/step - loss: 0.4821 - binary_accuracy: 0.8892 - val_loss: 0.4546 - val_binary_accuracy: 0.9036\n",
            "Epoch 14/25\n",
            "250/250 [==============================] - 1s 4ms/step - loss: 0.4736 - binary_accuracy: 0.8896 - val_loss: 0.4479 - val_binary_accuracy: 0.9040\n",
            "Epoch 15/25\n",
            "250/250 [==============================] - 1s 4ms/step - loss: 0.4648 - binary_accuracy: 0.8910 - val_loss: 0.4428 - val_binary_accuracy: 0.9055\n",
            "Epoch 16/25\n",
            "250/250 [==============================] - 1s 4ms/step - loss: 0.4613 - binary_accuracy: 0.8909 - val_loss: 0.4384 - val_binary_accuracy: 0.9047\n",
            "Epoch 17/25\n",
            "250/250 [==============================] - 1s 4ms/step - loss: 0.4574 - binary_accuracy: 0.8913 - val_loss: 0.4351 - val_binary_accuracy: 0.9049\n",
            "Epoch 18/25\n",
            "250/250 [==============================] - 1s 4ms/step - loss: 0.4544 - binary_accuracy: 0.8920 - val_loss: 0.4325 - val_binary_accuracy: 0.9061\n",
            "Epoch 19/25\n",
            "250/250 [==============================] - 1s 4ms/step - loss: 0.4523 - binary_accuracy: 0.8920 - val_loss: 0.4302 - val_binary_accuracy: 0.9067\n",
            "Epoch 20/25\n",
            "250/250 [==============================] - 1s 4ms/step - loss: 0.4494 - binary_accuracy: 0.8924 - val_loss: 0.4281 - val_binary_accuracy: 0.9083\n",
            "Epoch 21/25\n",
            "250/250 [==============================] - 1s 4ms/step - loss: 0.4480 - binary_accuracy: 0.8929 - val_loss: 0.4265 - val_binary_accuracy: 0.9081\n",
            "Epoch 22/25\n",
            "250/250 [==============================] - 1s 4ms/step - loss: 0.4454 - binary_accuracy: 0.8945 - val_loss: 0.4249 - val_binary_accuracy: 0.9079\n",
            "Epoch 23/25\n",
            "250/250 [==============================] - 1s 4ms/step - loss: 0.4452 - binary_accuracy: 0.8938 - val_loss: 0.4237 - val_binary_accuracy: 0.9075\n",
            "Epoch 24/25\n",
            "250/250 [==============================] - 1s 4ms/step - loss: 0.4444 - binary_accuracy: 0.8931 - val_loss: 0.4229 - val_binary_accuracy: 0.9083\n",
            "Epoch 25/25\n",
            "250/250 [==============================] - 1s 4ms/step - loss: 0.4429 - binary_accuracy: 0.8938 - val_loss: 0.4218 - val_binary_accuracy: 0.9083\n"
          ]
        }
      ]
    },
    {
      "cell_type": "markdown",
      "source": [
        ""
      ],
      "metadata": {
        "id": "5wSIEwQoHt2I"
      }
    },
    {
      "cell_type": "code",
      "source": [
        "train_loss=history.history['loss']\n",
        "val_loss=history.history['val_loss']\n",
        "train_acc=history.history['binary_accuracy']\n",
        "val_acc=history.history['val_binary_accuracy']\n",
        "\n",
        "fig, ax = plt.subplots(1,2)\n",
        "ax[0].plot(train_loss)\n",
        "ax[0].plot(val_loss)\n",
        "ax[0].legend(['train','test'])\n",
        "\n",
        "\n",
        "ax[1].plot(train_acc)\n",
        "ax[1].plot(val_acc)\n",
        "ax[1].legend(['train','test'])\n",
        "\n",
        "ax[0].set_title('Loss')\n",
        "ax[1].set_title('Accuracy') \n",
        "\n",
        "ax[0].set_xlabel('epoch')\n",
        "ax[1].set_xlabel('epoch')\n",
        "\n",
        "ax[0].set_ylabel('Loss')\n",
        "ax[1].set_ylabel('Accuracy')\n",
        "\n",
        "fig.set_figheight(8)\n",
        "fig.set_figwidth(10)\n",
        "fig.tight_layout() \n",
        "\n",
        "plt.show() \n",
        "plt.show()"
      ],
      "metadata": {
        "colab": {
          "base_uri": "https://localhost:8080/",
          "height": 585
        },
        "id": "i0Pwmmgt85c_",
        "outputId": "03eb1bc7-1e0e-4bf9-d670-692742ae053c"
      },
      "execution_count": null,
      "outputs": [
        {
          "output_type": "display_data",
          "data": {
            "image/png": "[encoded data removed]",
            "text/plain": [
              "<Figure size 720x576 with 2 Axes>"
            ]
          },
          "metadata": {
            "needs_background": "light"
          }
        }
      ]
    },
    {
      "cell_type": "code",
      "source": [
        "print('Elapsed %.3f seconds.' % elapsed)"
      ],
      "metadata": {
        "colab": {
          "base_uri": "https://localhost:8080/"
        },
        "id": "sYIvYvxYXdKU",
        "outputId": "f17e7799-9263-44b2-b95a-9fc258b1ecb3"
      },
      "execution_count": null,
      "outputs": [
        {
          "output_type": "stream",
          "name": "stdout",
          "text": [
            "Elapsed 26.733 seconds.\n"
          ]
        }
      ]
    },
    {
      "cell_type": "markdown",
      "source": [
        "### 7. Model Evaluation \n"
      ],
      "metadata": {
        "id": "lu_rd-fF-cbS"
      }
    },
    {
      "cell_type": "code",
      "source": [
        "print('Final training accuracy is %.3f ' % train_acc[-1])\n",
        "print('Final validation accuracy is %.3f ' % val_acc[-1])\n",
        "print('Final training loss is %.4f ' % train_loss[-1])\n",
        "print('Final validation loss is %.4f ' % val_loss[-1])"
      ],
      "metadata": {
        "colab": {
          "base_uri": "https://localhost:8080/"
        },
        "id": "_SjQuYdq-ooz",
        "outputId": "79aa8f8e-6ca6-47dd-c27e-8dded398624e"
      },
      "execution_count": null,
      "outputs": [
        {
          "output_type": "stream",
          "name": "stdout",
          "text": [
            "Final training accuracy is 0.894 \n",
            "Final validation accuracy is 0.908 \n",
            "Final training loss is 0.4429 \n",
            "Final validation loss is 0.4218 \n"
          ]
        }
      ]
    },
    {
      "cell_type": "code",
      "source": [
        "y_test_pred= model.predict(X_test)"
      ],
      "metadata": {
        "id": "7IBhoDTGUulO"
      },
      "execution_count": null,
      "outputs": []
    },
    {
      "cell_type": "code",
      "source": [
        "ConfusionMatrixDisplay.from_predictions(y_test, np.round(y_test_pred))"
      ],
      "metadata": {
        "colab": {
          "base_uri": "https://localhost:8080/",
          "height": 296
        },
        "id": "hSfe0YxiUuqa",
        "outputId": "26dccc5b-a830-4e98-9149-1db8c76061ff"
      },
      "execution_count": null,
      "outputs": [
        {
          "output_type": "execute_result",
          "data": {
            "text/plain": [
              "<sklearn.metrics._plot.confusion_matrix.ConfusionMatrixDisplay at 0x7f6a10819550>"
            ]
          },
          "metadata": {},
          "execution_count": 196
        },
        {
          "output_type": "display_data",
          "data": {
            "image/png": "[encoded data removed]",
            "text/plain": [
              "<Figure size 432x288 with 2 Axes>"
            ]
          },
          "metadata": {
            "needs_background": "light"
          }
        }
      ]
    },
    {
      "cell_type": "code",
      "source": [
        "print(classification_report(y_test,np.round(y_test_pred)))\n",
        "print('As per f1-score Model performs equally good on predicting Real news and Fake news. ')"
      ],
      "metadata": {
        "colab": {
          "base_uri": "https://localhost:8080/"
        },
        "id": "gGSjQ5NnUuv2",
        "outputId": "462b06ab-3f1f-48f4-8f4e-ec0c0327d7a8"
      },
      "execution_count": null,
      "outputs": [
        {
          "output_type": "stream",
          "name": "stdout",
          "text": [
            "              precision    recall  f1-score   support\n",
            "\n",
            "           0       0.91      0.89      0.90      7717\n",
            "           1       0.89      0.91      0.90      7100\n",
            "\n",
            "    accuracy                           0.90     14817\n",
            "   macro avg       0.90      0.90      0.90     14817\n",
            "weighted avg       0.90      0.90      0.90     14817\n",
            "\n",
            "As per f1-score Model performs equally good on predicting Real news and Fake news. \n"
          ]
        }
      ]
    },
    {
      "cell_type": "markdown",
      "source": [
        "### the following dataframe contains mislabled records.\n"
      ],
      "metadata": {
        "id": "Y4YLkW88Edii"
      }
    },
    {
      "cell_type": "code",
      "source": [
        "error_df = pd.DataFrame(y_test)\n",
        "error_df['predicted']=np.round(y_test_pred).astype('int32')\n",
        "error_df['pred_prob']=y_test_pred\n",
        "error_df = error_df.loc[error_df['Class']!= error_df['predicted']]\n",
        "print(error_df.sample(5))\n"
      ],
      "metadata": {
        "colab": {
          "base_uri": "https://localhost:8080/"
        },
        "id": "xN3-yfe_ASI-",
        "outputId": "a34e857b-84e2-47a4-9b12-388d2308354f"
      },
      "execution_count": null,
      "outputs": [
        {
          "output_type": "stream",
          "name": "stdout",
          "text": [
            "       Class  predicted  pred_prob\n",
            "17730      1          0   0.390428\n",
            "43457      0          1   0.569064\n",
            "42339      0          1   0.745115\n",
            "22507      0          1   0.791670\n",
            "34113      0          1   0.554377\n"
          ]
        }
      ]
    },
    {
      "cell_type": "markdown",
      "source": [
        "7.2 Print the two most incorrectly classified records for each class in the test dataset.   \n",
        " Below Dataframe, contains records of 'Real news' but which are mislabelled as 'Fake news', sorted descending based on prediction accuracy."
      ],
      "metadata": {
        "id": "XSnLj375E6Nn"
      }
    },
    {
      "cell_type": "code",
      "source": [
        "error_df[error_df.Class==0].sort_values('pred_prob',axis=0,ascending=False)"
      ],
      "metadata": {
        "colab": {
          "base_uri": "https://localhost:8080/",
          "height": 423
        },
        "id": "oJt3N4KFFPcp",
        "outputId": "547a9002-689e-430e-970e-872691cb23ca"
      },
      "execution_count": null,
      "outputs": [
        {
          "output_type": "execute_result",
          "data": {
            "text/html": [
              "\n",
              "  <div id=\"df-9e406ba9-503c-4d21-93e2-ae42f2f4d596\">\n",
              "    <div class=\"colab-df-container\">\n",
              "      <div>\n",
              "<style scoped>\n",
              "    .dataframe tbody tr th:only-of-type {\n",
              "        vertical-align: middle;\n",
              "    }\n",
              "\n",
              "    .dataframe tbody tr th {\n",
              "        vertical-align: top;\n",
              "    }\n",
              "\n",
              "    .dataframe thead th {\n",
              "        text-align: right;\n",
              "    }\n",
              "</style>\n",
              "<table border=\"1\" class=\"dataframe\">\n",
              "  <thead>\n",
              "    <tr style=\"text-align: right;\">\n",
              "      <th></th>\n",
              "      <th>Class</th>\n",
              "      <th>predicted</th>\n",
              "      <th>pred_prob</th>\n",
              "    </tr>\n",
              "  </thead>\n",
              "  <tbody>\n",
              "    <tr>\n",
              "      <th>43653</th>\n",
              "      <td>0</td>\n",
              "      <td>1</td>\n",
              "      <td>0.950760</td>\n",
              "    </tr>\n",
              "    <tr>\n",
              "      <th>42862</th>\n",
              "      <td>0</td>\n",
              "      <td>1</td>\n",
              "      <td>0.950173</td>\n",
              "    </tr>\n",
              "    <tr>\n",
              "      <th>43631</th>\n",
              "      <td>0</td>\n",
              "      <td>1</td>\n",
              "      <td>0.949643</td>\n",
              "    </tr>\n",
              "    <tr>\n",
              "      <th>31990</th>\n",
              "      <td>0</td>\n",
              "      <td>1</td>\n",
              "      <td>0.948831</td>\n",
              "    </tr>\n",
              "    <tr>\n",
              "      <th>43904</th>\n",
              "      <td>0</td>\n",
              "      <td>1</td>\n",
              "      <td>0.948036</td>\n",
              "    </tr>\n",
              "    <tr>\n",
              "      <th>...</th>\n",
              "      <td>...</td>\n",
              "      <td>...</td>\n",
              "      <td>...</td>\n",
              "    </tr>\n",
              "    <tr>\n",
              "      <th>26587</th>\n",
              "      <td>0</td>\n",
              "      <td>1</td>\n",
              "      <td>0.503632</td>\n",
              "    </tr>\n",
              "    <tr>\n",
              "      <th>31674</th>\n",
              "      <td>0</td>\n",
              "      <td>1</td>\n",
              "      <td>0.502940</td>\n",
              "    </tr>\n",
              "    <tr>\n",
              "      <th>35778</th>\n",
              "      <td>0</td>\n",
              "      <td>1</td>\n",
              "      <td>0.501876</td>\n",
              "    </tr>\n",
              "    <tr>\n",
              "      <th>29463</th>\n",
              "      <td>0</td>\n",
              "      <td>1</td>\n",
              "      <td>0.501440</td>\n",
              "    </tr>\n",
              "    <tr>\n",
              "      <th>25144</th>\n",
              "      <td>0</td>\n",
              "      <td>1</td>\n",
              "      <td>0.500786</td>\n",
              "    </tr>\n",
              "  </tbody>\n",
              "</table>\n",
              "<p>816 rows × 3 columns</p>\n",
              "</div>\n",
              "      <button class=\"colab-df-convert\" onclick=\"convertToInteractive('df-9e406ba9-503c-4d21-93e2-ae42f2f4d596')\"\n",
              "              title=\"Convert this dataframe to an interactive table.\"\n",
              "              style=\"display:none;\">\n",
              "        \n",
              "  <svg xmlns=\"http://www.w3.org/2000/svg\" height=\"24px\"viewBox=\"0 0 24 24\"\n",
              "       width=\"24px\">\n",
              "    <path d=\"M0 0h24v24H0V0z\" fill=\"none\"/>\n",
              "    <path d=\"M18.56 5.44l.94 2.06.94-2.06 2.06-.94-2.06-.94-.94-2.06-.94 2.06-2.06.94zm-11 1L8.5 8.5l.94-2.06 2.06-.94-2.06-.94L8.5 2.5l-.94 2.06-2.06.94zm10 10l.94 2.06.94-2.06 2.06-.94-2.06-.94-.94-2.06-.94 2.06-2.06.94z\"/><path d=\"M17.41 7.96l-1.37-1.37c-.4-.4-.92-.59-1.43-.59-.52 0-1.04.2-1.43.59L10.3 9.45l-7.72 7.72c-.78.78-.78 2.05 0 2.83L4 21.41c.39.39.9.59 1.41.59.51 0 1.02-.2 1.41-.59l7.78-7.78 2.81-2.81c.8-.78.8-2.07 0-2.86zM5.41 20L4 18.59l7.72-7.72 1.47 1.35L5.41 20z\"/>\n",
              "  </svg>\n",
              "      </button>\n",
              "      \n",
              "  <style>\n",
              "    .colab-df-container {\n",
              "      display:flex;\n",
              "      flex-wrap:wrap;\n",
              "      gap: 12px;\n",
              "    }\n",
              "\n",
              "    .colab-df-convert {\n",
              "      background-color: #E8F0FE;\n",
              "      border: none;\n",
              "      border-radius: 50%;\n",
              "      cursor: pointer;\n",
              "      display: none;\n",
              "      fill: #1967D2;\n",
              "      height: 32px;\n",
              "      padding: 0 0 0 0;\n",
              "      width: 32px;\n",
              "    }\n",
              "\n",
              "    .colab-df-convert:hover {\n",
              "      background-color: #E2EBFA;\n",
              "      box-shadow: 0px 1px 2px rgba(60, 64, 67, 0.3), 0px 1px 3px 1px rgba(60, 64, 67, 0.15);\n",
              "      fill: #174EA6;\n",
              "    }\n",
              "\n",
              "    [theme=dark] .colab-df-convert {\n",
              "      background-color: #3B4455;\n",
              "      fill: #D2E3FC;\n",
              "    }\n",
              "\n",
              "    [theme=dark] .colab-df-convert:hover {\n",
              "      background-color: #434B5C;\n",
              "      box-shadow: 0px 1px 3px 1px rgba(0, 0, 0, 0.15);\n",
              "      filter: drop-shadow(0px 1px 2px rgba(0, 0, 0, 0.3));\n",
              "      fill: #FFFFFF;\n",
              "    }\n",
              "  </style>\n",
              "\n",
              "      <script>\n",
              "        const buttonEl =\n",
              "          document.querySelector('#df-9e406ba9-503c-4d21-93e2-ae42f2f4d596 button.colab-df-convert');\n",
              "        buttonEl.style.display =\n",
              "          google.colab.kernel.accessAllowed ? 'block' : 'none';\n",
              "\n",
              "        async function convertToInteractive(key) {\n",
              "          const element = document.querySelector('#df-9e406ba9-503c-4d21-93e2-ae42f2f4d596');\n",
              "          const dataTable =\n",
              "            await google.colab.kernel.invokeFunction('convertToInteractive',\n",
              "                                                     [key], {});\n",
              "          if (!dataTable) return;\n",
              "\n",
              "          const docLinkHtml = 'Like what you see? Visit the ' +\n",
              "            '<a target=\"_blank\" href=https://colab.research.google.com/notebooks/data_table.ipynb>data table notebook</a>'\n",
              "            + ' to learn more about interactive tables.';\n",
              "          element.innerHTML = '';\n",
              "          dataTable['output_type'] = 'display_data';\n",
              "          await google.colab.output.renderOutput(dataTable, element);\n",
              "          const docLink = document.createElement('div');\n",
              "          docLink.innerHTML = docLinkHtml;\n",
              "          element.appendChild(docLink);\n",
              "        }\n",
              "      </script>\n",
              "    </div>\n",
              "  </div>\n",
              "  "
            ],
            "text/plain": [
              "       Class  predicted  pred_prob\n",
              "43653      0          1   0.950760\n",
              "42862      0          1   0.950173\n",
              "43631      0          1   0.949643\n",
              "31990      0          1   0.948831\n",
              "43904      0          1   0.948036\n",
              "...      ...        ...        ...\n",
              "26587      0          1   0.503632\n",
              "31674      0          1   0.502940\n",
              "35778      0          1   0.501876\n",
              "29463      0          1   0.501440\n",
              "25144      0          1   0.500786\n",
              "\n",
              "[816 rows x 3 columns]"
            ]
          },
          "metadata": {},
          "execution_count": 199
        }
      ]
    },
    {
      "cell_type": "code",
      "source": [
        "temp=X_test_copy[error_df[error_df.Class==1].sort_values('pred_prob',axis=0,ascending=False).index[0:2]].values\n",
        "print('The top two Real news mislabelled as Fake news are following ')\n",
        "print(1,'. ',temp[0])\n",
        "print(2,'. ',temp[1])\n",
        "temp=X_test_copy[error_df[error_df.Class==0].sort_values('pred_prob',axis=0,ascending=False).index[0:2]].values\n",
        "print('\\nThe top two Fake news mislabelled as Real news are following ')\n",
        "print(1,'. ',temp[0])\n",
        "print(2,'. ',temp[1])"
      ],
      "metadata": {
        "colab": {
          "base_uri": "https://localhost:8080/"
        },
        "id": "Av-NiiXfEHNF",
        "outputId": "8e6dbec5-0ff4-46af-8843-13e105ca73e8"
      },
      "execution_count": null,
      "outputs": [
        {
          "output_type": "stream",
          "name": "stdout",
          "text": [
            "The top two Real news mislabelled as Fake news are following \n",
            "1 .  cbs poll shows clinton with 4 - point lead vs trump in white house race\n",
            "2 .  four yemeni soldiers killed by suspected al qaeda truck bombing\n",
            "\n",
            "The top two Fake news mislabelled as Real news are following \n",
            "1 .  potential shift : trump warns israel , ‘new settlements may not help peace in middle east’\n",
            "2 .  eu leaders pledge extra € 1 billion in aid to refugees…slovakia will take eu to court over forced refugee quotas\n"
          ]
        }
      ]
    },
    {
      "cell_type": "markdown",
      "source": [
        "## Hyperparameter Tuning-   \n",
        "1. Regularization: Train a model without regularization\n"
      ],
      "metadata": {
        "id": "3g4vFKYcHZdd"
      }
    },
    {
      "cell_type": "code",
      "source": [
        "print('Model Building - No regularisation on hidden layers')\n",
        "model1 = tf.keras.Sequential()\n",
        "model1.add(tf.keras.Input(shape=(128)))\n",
        "model1.add(tf.keras.layers.Dense(64, activation='relu'))\n",
        "model1.add(tf.keras.layers.Dropout(0.5))# drop out for layer with 64 hidden units\n",
        "model1.add(tf.keras.layers.Dense(32, activation='relu'))\n",
        "model1.add(tf.keras.layers.Dense(10, activation='relu'))\n",
        "model1.add(tf.keras.layers.Dense(1, activation='sigmoid'))\n",
        "print(model1.summary())\n",
        "print('Similar to first model, optimiser is adam, loss- binary cross entropy loss, accuracy- binary accuracy')\n",
        "model1.compile(optimizer=tf.keras.optimizers.Adam(learning_rate=0.0001),\n",
        "             loss=tf.keras.losses.BinaryCrossentropy(),\n",
        "             metrics=tf.keras.metrics.BinaryAccuracy())\n",
        "start= time.perf_counter()\n",
        "history1=model1.fit(x=X_train,y= y_train, epochs=25, batch_size=100,validation_data=(X_val,y_val) )\n",
        "elapsed = time.perf_counter() - start\n",
        "print('Elapsed %.3f seconds.' % elapsed)\n",
        "print('Model evaluation')\n",
        "train_loss=history1.history['loss']\n",
        "val_loss=history1.history['val_loss']\n",
        "train_acc=history1.history['binary_accuracy']\n",
        "val_acc=history1.history['val_binary_accuracy']\n",
        "\n",
        "fig, ax = plt.subplots(1,2)\n",
        "ax[0].plot(train_loss)\n",
        "ax[0].plot(val_loss)\n",
        "ax[0].legend(['train','test'])\n",
        "\n",
        "\n",
        "ax[1].plot(train_acc)\n",
        "ax[1].plot(val_acc)\n",
        "ax[1].legend(['train','test'])\n",
        "\n",
        "ax[0].set_title('Loss')\n",
        "ax[1].set_title('Accuracy') \n",
        "\n",
        "ax[0].set_xlabel('epoch')\n",
        "ax[1].set_xlabel('epoch')\n",
        "\n",
        "ax[0].set_ylabel('Loss')\n",
        "ax[1].set_ylabel('Accuracy')\n",
        "\n",
        "fig.set_figheight(8)\n",
        "fig.set_figwidth(10)\n",
        "fig.tight_layout() \n",
        "\n",
        "plt.show() \n",
        "plt.show()\n"
      ],
      "metadata": {
        "id": "OE8vTDfZbjxB",
        "colab": {
          "base_uri": "https://localhost:8080/",
          "height": 1000
        },
        "outputId": "91f62829-4f8d-4851-dd89-aba383c8fe15"
      },
      "execution_count": null,
      "outputs": [
        {
          "output_type": "stream",
          "name": "stdout",
          "text": [
            "Model Building - No regularisation on hidden layers\n",
            "Model: \"sequential_15\"\n",
            "_________________________________________________________________\n",
            " Layer (type)                Output Shape              Param #   \n",
            "=================================================================\n",
            " dense_60 (Dense)            (None, 64)                8256      \n",
            "                                                                 \n",
            " dropout_15 (Dropout)        (None, 64)                0         \n",
            "                                                                 \n",
            " dense_61 (Dense)            (None, 32)                2080      \n",
            "                                                                 \n",
            " dense_62 (Dense)            (None, 10)                330       \n",
            "                                                                 \n",
            " dense_63 (Dense)            (None, 1)                 11        \n",
            "                                                                 \n",
            "=================================================================\n",
            "Total params: 10,677\n",
            "Trainable params: 10,677\n",
            "Non-trainable params: 0\n",
            "_________________________________________________________________\n",
            "None\n",
            "Similar to first model, optimiser is adam, loss- binary cross entropy loss, accuracy- binary accuracy\n",
            "Epoch 1/25\n",
            "250/250 [==============================] - 2s 5ms/step - loss: 0.6805 - binary_accuracy: 0.5764 - val_loss: 0.6464 - val_binary_accuracy: 0.7945\n",
            "Epoch 2/25\n",
            "250/250 [==============================] - 1s 4ms/step - loss: 0.5646 - binary_accuracy: 0.7804 - val_loss: 0.4151 - val_binary_accuracy: 0.8662\n",
            "Epoch 3/25\n",
            "250/250 [==============================] - 1s 4ms/step - loss: 0.3977 - binary_accuracy: 0.8388 - val_loss: 0.3014 - val_binary_accuracy: 0.8853\n",
            "Epoch 4/25\n",
            "250/250 [==============================] - 1s 4ms/step - loss: 0.3376 - binary_accuracy: 0.8606 - val_loss: 0.2695 - val_binary_accuracy: 0.8933\n",
            "Epoch 5/25\n",
            "250/250 [==============================] - 1s 4ms/step - loss: 0.3167 - binary_accuracy: 0.8681 - val_loss: 0.2558 - val_binary_accuracy: 0.8994\n",
            "Epoch 6/25\n",
            "250/250 [==============================] - 1s 4ms/step - loss: 0.3003 - binary_accuracy: 0.8744 - val_loss: 0.2464 - val_binary_accuracy: 0.9022\n",
            "Epoch 7/25\n",
            "250/250 [==============================] - 1s 4ms/step - loss: 0.2895 - binary_accuracy: 0.8797 - val_loss: 0.2401 - val_binary_accuracy: 0.9045\n",
            "Epoch 8/25\n",
            "250/250 [==============================] - 1s 4ms/step - loss: 0.2808 - binary_accuracy: 0.8832 - val_loss: 0.2351 - val_binary_accuracy: 0.9069\n",
            "Epoch 9/25\n",
            "250/250 [==============================] - 1s 4ms/step - loss: 0.2788 - binary_accuracy: 0.8856 - val_loss: 0.2321 - val_binary_accuracy: 0.9073\n",
            "Epoch 10/25\n",
            "250/250 [==============================] - 1s 4ms/step - loss: 0.2693 - binary_accuracy: 0.8890 - val_loss: 0.2287 - val_binary_accuracy: 0.9093\n",
            "Epoch 11/25\n",
            "250/250 [==============================] - 1s 4ms/step - loss: 0.2618 - binary_accuracy: 0.8910 - val_loss: 0.2257 - val_binary_accuracy: 0.9101\n",
            "Epoch 12/25\n",
            "250/250 [==============================] - 1s 4ms/step - loss: 0.2598 - binary_accuracy: 0.8927 - val_loss: 0.2234 - val_binary_accuracy: 0.9110\n",
            "Epoch 13/25\n",
            "250/250 [==============================] - 1s 4ms/step - loss: 0.2573 - binary_accuracy: 0.8936 - val_loss: 0.2217 - val_binary_accuracy: 0.9110\n",
            "Epoch 14/25\n",
            "250/250 [==============================] - 1s 4ms/step - loss: 0.2533 - binary_accuracy: 0.8972 - val_loss: 0.2190 - val_binary_accuracy: 0.9130\n",
            "Epoch 15/25\n",
            "250/250 [==============================] - 1s 4ms/step - loss: 0.2495 - binary_accuracy: 0.8988 - val_loss: 0.2171 - val_binary_accuracy: 0.9140\n",
            "Epoch 16/25\n",
            "250/250 [==============================] - 1s 4ms/step - loss: 0.2476 - binary_accuracy: 0.8998 - val_loss: 0.2160 - val_binary_accuracy: 0.9136\n",
            "Epoch 17/25\n",
            "250/250 [==============================] - 1s 4ms/step - loss: 0.2428 - binary_accuracy: 0.9018 - val_loss: 0.2139 - val_binary_accuracy: 0.9148\n",
            "Epoch 18/25\n",
            "250/250 [==============================] - 1s 4ms/step - loss: 0.2420 - binary_accuracy: 0.9020 - val_loss: 0.2129 - val_binary_accuracy: 0.9150\n",
            "Epoch 19/25\n",
            "250/250 [==============================] - 1s 4ms/step - loss: 0.2391 - binary_accuracy: 0.9023 - val_loss: 0.2113 - val_binary_accuracy: 0.9160\n",
            "Epoch 20/25\n",
            "250/250 [==============================] - 1s 4ms/step - loss: 0.2387 - binary_accuracy: 0.9034 - val_loss: 0.2101 - val_binary_accuracy: 0.9160\n",
            "Epoch 21/25\n",
            "250/250 [==============================] - 1s 4ms/step - loss: 0.2321 - binary_accuracy: 0.9069 - val_loss: 0.2087 - val_binary_accuracy: 0.9164\n",
            "Epoch 22/25\n",
            "250/250 [==============================] - 1s 4ms/step - loss: 0.2373 - binary_accuracy: 0.9028 - val_loss: 0.2076 - val_binary_accuracy: 0.9169\n",
            "Epoch 23/25\n",
            "250/250 [==============================] - 1s 4ms/step - loss: 0.2311 - binary_accuracy: 0.9058 - val_loss: 0.2063 - val_binary_accuracy: 0.9173\n",
            "Epoch 24/25\n",
            "250/250 [==============================] - 1s 4ms/step - loss: 0.2308 - binary_accuracy: 0.9056 - val_loss: 0.2061 - val_binary_accuracy: 0.9177\n",
            "Epoch 25/25\n",
            "250/250 [==============================] - 1s 4ms/step - loss: 0.2292 - binary_accuracy: 0.9074 - val_loss: 0.2044 - val_binary_accuracy: 0.9179\n",
            "Elapsed 25.309 seconds.\n",
            "Model evaluation\n"
          ]
        },
        {
          "output_type": "display_data",
          "data": {
            "image/png": "[encoded data removed]",
            "text/plain": [
              "<Figure size 720x576 with 2 Axes>"
            ]
          },
          "metadata": {
            "needs_background": "light"
          }
        }
      ]
    },
    {
      "cell_type": "code",
      "source": [
        "print('Final training accuracy is %.3f ' % train_acc[-1])\n",
        "print('Final validation accuracy is %.3f ' % val_acc[-1])\n",
        "print('Final training loss is %.4f ' % train_loss[-1])\n",
        "print('Final validation loss is %.4f ' % val_loss[-1])\n",
        "y_test_pred= model1.predict(X_test)\n",
        "ConfusionMatrixDisplay.from_predictions(y_test, np.round(y_test_pred))\n",
        "print(classification_report(y_test,np.round(y_test_pred)))\n",
        "print('As per f1-score Model performs slightly better on predicting Real news and Fake news. ')\n",
        "\n",
        "error_df = pd.DataFrame(y_test)\n",
        "error_df['predicted']=np.round(y_test_pred).astype('int32')\n",
        "error_df['pred_prob']=y_test_pred\n",
        "error_df = error_df.loc[error_df['Class']!= error_df['predicted']]\n",
        "error_df[error_df.Class==0].sort_values('pred_prob',axis=0,ascending=False)\n",
        "temp=X_test_copy[error_df[error_df.Class==1].sort_values('pred_prob',axis=0,ascending=False).index[0:2]].values\n",
        "print('The top two Real news mislabelled as Fake news are following ')\n",
        "print(1,'. ',temp[0])\n",
        "print(2,'. ',temp[1])\n",
        "temp=X_test_copy[error_df[error_df.Class==0].sort_values('pred_prob',axis=0,ascending=False).index[0:2]].values\n",
        "print('\\nThe top two Fake news mislabelled as Real news are following ')\n",
        "print(1,'. ',temp[0])\n",
        "print(2,'. ',temp[1])\n",
        "\n",
        "\n"
      ],
      "metadata": {
        "colab": {
          "base_uri": "https://localhost:8080/",
          "height": 646
        },
        "id": "EsyCM4FuJYPO",
        "outputId": "07f18bfd-845d-463c-f402-ffec7e481a0c"
      },
      "execution_count": null,
      "outputs": [
        {
          "output_type": "stream",
          "name": "stdout",
          "text": [
            "Final training accuracy is 0.907 \n",
            "Final validation accuracy is 0.918 \n",
            "Final training loss is 0.2292 \n",
            "Final validation loss is 0.2044 \n",
            "              precision    recall  f1-score   support\n",
            "\n",
            "           0       0.91      0.92      0.92      7717\n",
            "           1       0.91      0.91      0.91      7100\n",
            "\n",
            "    accuracy                           0.91     14817\n",
            "   macro avg       0.91      0.91      0.91     14817\n",
            "weighted avg       0.91      0.91      0.91     14817\n",
            "\n",
            "As per f1-score Model performs slightly better on predicting Real news and Fake news. \n",
            "The top two Real news mislabelled as Fake news are following \n",
            "1 .  clinton backer george clooney condemns 'obscene' sums in white house race\n",
            "2 .  senate leader mcconnell says 'nobody wants terrorists to have firearms'\n",
            "\n",
            "The top two Fake news mislabelled as Real news are following \n",
            "1 .  n . korea warns it will strike u . s . bases in s . korea…mike pence travels to s . korea as sign of commitment to ally…china warns of “war at any moment”\n",
            "2 .  n . korea warns it will strike u . s . bases in s . korea…mike pence travels to s . korea as sign of commitment to ally…china warns of “war at any moment”\n"
          ]
        },
        {
          "output_type": "display_data",
          "data": {
            "image/png": "[encoded data removed]",
            "text/plain": [
              "<Figure size 432x288 with 2 Axes>"
            ]
          },
          "metadata": {
            "needs_background": "light"
          }
        }
      ]
    },
    {
      "cell_type": "markdown",
      "source": [
        "### Hyperparameter tuning   \n",
        "2. Dropout: Change the position and value of dropout layer?   \n",
        "Changed droppoout from 64 hidden unit`s layer to 32 hidden units layer and dropout changed rom 0.5 to 0.8\n"
      ],
      "metadata": {
        "id": "wFNYPskcPpKD"
      }
    },
    {
      "cell_type": "code",
      "source": [
        "print('Model Building - Changed droppout from 64 hidden unit`s layer to 32 hidden units layer and dropout changed rom 0.5 to 0.8')\n",
        "model2 = tf.keras.Sequential()\n",
        "model2.add(tf.keras.Input(shape=(128)))\n",
        "model2.add(tf.keras.layers.Dense(64,kernel_regularizer='l2', activation='relu'))\n",
        "model2.add(tf.keras.layers.Dense(32,kernel_regularizer='l2', activation='relu'))\n",
        "model2.add(tf.keras.layers.Dropout(0.8))# drop out for layer with 32 hidden units\n",
        "model2.add(tf.keras.layers.Dense(10,kernel_regularizer='l2', activation='relu'))\n",
        "model2.add(tf.keras.layers.Dense(1,kernel_regularizer='l2', activation='sigmoid'))\n",
        "print(model2.summary())\n",
        "print('Similar to first model, optimiser is adam, loss- binary cross entropy loss, accuracy- binary accuracy')\n",
        "model2.compile(optimizer=tf.keras.optimizers.Adam(learning_rate=0.0001),\n",
        "             loss=tf.keras.losses.BinaryCrossentropy(),\n",
        "             metrics=tf.keras.metrics.BinaryAccuracy())\n",
        "start= time.perf_counter()\n",
        "history2=model2.fit(x=X_train,y= y_train, epochs=25, batch_size=100,validation_data=(X_val,y_val) )\n",
        "elapsed = time.perf_counter() - start\n",
        "print('Elapsed %.3f seconds.' % elapsed)\n",
        "print('Model evaluation')\n",
        "train_loss=history2.history['loss']\n",
        "val_loss=history2.history['val_loss']\n",
        "train_acc=history2.history['binary_accuracy']\n",
        "val_acc=history2.history['val_binary_accuracy']\n",
        "\n",
        "fig, ax = plt.subplots(1,2)\n",
        "ax[0].plot(train_loss)\n",
        "ax[0].plot(val_loss)\n",
        "ax[0].legend(['train','test'])\n",
        "\n",
        "\n",
        "ax[1].plot(train_acc)\n",
        "ax[1].plot(val_acc)\n",
        "ax[1].legend(['train','test'])\n",
        "\n",
        "ax[0].set_title('Loss')\n",
        "ax[1].set_title('Accuracy') \n",
        "\n",
        "ax[0].set_xlabel('epoch')\n",
        "ax[1].set_xlabel('epoch')\n",
        "\n",
        "ax[0].set_ylabel('Loss')\n",
        "ax[1].set_ylabel('Accuracy')\n",
        "\n",
        "fig.set_figheight(8)\n",
        "fig.set_figwidth(10)\n",
        "fig.tight_layout() \n",
        "\n",
        "plt.show() \n",
        "plt.show()\n"
      ],
      "metadata": {
        "colab": {
          "base_uri": "https://localhost:8080/",
          "height": 1000
        },
        "id": "lZEsfx6RIA5-",
        "outputId": "885a078f-56f7-4c4e-bc33-076d974f8a37"
      },
      "execution_count": null,
      "outputs": [
        {
          "output_type": "stream",
          "name": "stdout",
          "text": [
            "Model Building - Changed droppoy from 64 hidden unit`s layer to 32 hidden units layer and dropout changed rom 0.5 to 0.8\n",
            "Model: \"sequential_16\"\n",
            "_________________________________________________________________\n",
            " Layer (type)                Output Shape              Param #   \n",
            "=================================================================\n",
            " dense_64 (Dense)            (None, 64)                8256      \n",
            "                                                                 \n",
            " dense_65 (Dense)            (None, 32)                2080      \n",
            "                                                                 \n",
            " dropout_16 (Dropout)        (None, 32)                0         \n",
            "                                                                 \n",
            " dense_66 (Dense)            (None, 10)                330       \n",
            "                                                                 \n",
            " dense_67 (Dense)            (None, 1)                 11        \n",
            "                                                                 \n",
            "=================================================================\n",
            "Total params: 10,677\n",
            "Trainable params: 10,677\n",
            "Non-trainable params: 0\n",
            "_________________________________________________________________\n",
            "None\n",
            "Similar to first model, optimiser is adam, loss- binary cross entropy loss, accuracy- binary accuracy\n",
            "Epoch 1/25\n",
            "250/250 [==============================] - 2s 5ms/step - loss: 1.9200 - binary_accuracy: 0.5632 - val_loss: 1.7152 - val_binary_accuracy: 0.6440\n",
            "Epoch 2/25\n",
            "250/250 [==============================] - 1s 4ms/step - loss: 1.5546 - binary_accuracy: 0.6192 - val_loss: 1.3920 - val_binary_accuracy: 0.8040\n",
            "Epoch 3/25\n",
            "250/250 [==============================] - 1s 4ms/step - loss: 1.2765 - binary_accuracy: 0.6892 - val_loss: 1.1367 - val_binary_accuracy: 0.8516\n",
            "Epoch 4/25\n",
            "250/250 [==============================] - 1s 4ms/step - loss: 1.0641 - binary_accuracy: 0.7512 - val_loss: 0.9368 - val_binary_accuracy: 0.8784\n",
            "Epoch 5/25\n",
            "250/250 [==============================] - 1s 4ms/step - loss: 0.9027 - binary_accuracy: 0.7898 - val_loss: 0.7863 - val_binary_accuracy: 0.8821\n",
            "Epoch 6/25\n",
            "250/250 [==============================] - 1s 4ms/step - loss: 0.7882 - binary_accuracy: 0.8061 - val_loss: 0.6817 - val_binary_accuracy: 0.8910\n",
            "Epoch 7/25\n",
            "250/250 [==============================] - 1s 4ms/step - loss: 0.7057 - binary_accuracy: 0.8203 - val_loss: 0.6100 - val_binary_accuracy: 0.8931\n",
            "Epoch 8/25\n",
            "250/250 [==============================] - 1s 4ms/step - loss: 0.6516 - binary_accuracy: 0.8262 - val_loss: 0.5617 - val_binary_accuracy: 0.8969\n",
            "Epoch 9/25\n",
            "250/250 [==============================] - 1s 4ms/step - loss: 0.6128 - binary_accuracy: 0.8322 - val_loss: 0.5290 - val_binary_accuracy: 0.8994\n",
            "Epoch 10/25\n",
            "250/250 [==============================] - 1s 4ms/step - loss: 0.5819 - binary_accuracy: 0.8410 - val_loss: 0.5042 - val_binary_accuracy: 0.9010\n",
            "Epoch 11/25\n",
            "250/250 [==============================] - 1s 4ms/step - loss: 0.5674 - binary_accuracy: 0.8403 - val_loss: 0.4885 - val_binary_accuracy: 0.9018\n",
            "Epoch 12/25\n",
            "250/250 [==============================] - 1s 4ms/step - loss: 0.5524 - binary_accuracy: 0.8472 - val_loss: 0.4770 - val_binary_accuracy: 0.9043\n",
            "Epoch 13/25\n",
            "250/250 [==============================] - 1s 4ms/step - loss: 0.5407 - binary_accuracy: 0.8507 - val_loss: 0.4677 - val_binary_accuracy: 0.9049\n",
            "Epoch 14/25\n",
            "250/250 [==============================] - 1s 4ms/step - loss: 0.5344 - binary_accuracy: 0.8517 - val_loss: 0.4603 - val_binary_accuracy: 0.9051\n",
            "Epoch 15/25\n",
            "250/250 [==============================] - 1s 4ms/step - loss: 0.5291 - binary_accuracy: 0.8546 - val_loss: 0.4550 - val_binary_accuracy: 0.9075\n",
            "Epoch 16/25\n",
            "250/250 [==============================] - 1s 4ms/step - loss: 0.5255 - binary_accuracy: 0.8542 - val_loss: 0.4514 - val_binary_accuracy: 0.9071\n",
            "Epoch 17/25\n",
            "250/250 [==============================] - 1s 4ms/step - loss: 0.5243 - binary_accuracy: 0.8570 - val_loss: 0.4499 - val_binary_accuracy: 0.9077\n",
            "Epoch 18/25\n",
            "250/250 [==============================] - 1s 4ms/step - loss: 0.5188 - binary_accuracy: 0.8554 - val_loss: 0.4466 - val_binary_accuracy: 0.9077\n",
            "Epoch 19/25\n",
            "250/250 [==============================] - 1s 4ms/step - loss: 0.5166 - binary_accuracy: 0.8558 - val_loss: 0.4434 - val_binary_accuracy: 0.9073\n",
            "Epoch 20/25\n",
            "250/250 [==============================] - 1s 4ms/step - loss: 0.5123 - binary_accuracy: 0.8587 - val_loss: 0.4414 - val_binary_accuracy: 0.9069\n",
            "Epoch 21/25\n",
            "250/250 [==============================] - 1s 4ms/step - loss: 0.5116 - binary_accuracy: 0.8558 - val_loss: 0.4405 - val_binary_accuracy: 0.9079\n",
            "Epoch 22/25\n",
            "250/250 [==============================] - 1s 4ms/step - loss: 0.5143 - binary_accuracy: 0.8565 - val_loss: 0.4389 - val_binary_accuracy: 0.9081\n",
            "Epoch 23/25\n",
            "250/250 [==============================] - 1s 4ms/step - loss: 0.5132 - binary_accuracy: 0.8598 - val_loss: 0.4390 - val_binary_accuracy: 0.9069\n",
            "Epoch 24/25\n",
            "250/250 [==============================] - 1s 4ms/step - loss: 0.5068 - binary_accuracy: 0.8620 - val_loss: 0.4372 - val_binary_accuracy: 0.9077\n",
            "Epoch 25/25\n",
            "250/250 [==============================] - 1s 4ms/step - loss: 0.5091 - binary_accuracy: 0.8592 - val_loss: 0.4371 - val_binary_accuracy: 0.9067\n",
            "Elapsed 42.014 seconds.\n",
            "Model evaluation\n"
          ]
        },
        {
          "output_type": "display_data",
          "data": {
            "image/png": "[encoded data removed]",
            "text/plain": [
              "<Figure size 720x576 with 2 Axes>"
            ]
          },
          "metadata": {
            "needs_background": "light"
          }
        }
      ]
    },
    {
      "cell_type": "code",
      "source": [
        "print('Final training accuracy is %.3f ' % train_acc[-1])\n",
        "print('Final validation accuracy is %.3f ' % val_acc[-1])\n",
        "print('Final training loss is %.4f ' % train_loss[-1])\n",
        "print('Final validation loss is %.4f ' % val_loss[-1])\n",
        "y_test_pred= model2.predict(X_test)\n",
        "ConfusionMatrixDisplay.from_predictions(y_test, np.round(y_test_pred))\n",
        "print(classification_report(y_test,np.round(y_test_pred)))\n",
        "print('As per f1-score Model performs equally good on predicting Real news and Fake news. ')\n",
        "error_df = pd.DataFrame(y_test)\n",
        "error_df['predicted']=np.round(y_test_pred).astype('int32')\n",
        "error_df['pred_prob']=y_test_pred\n",
        "error_df = error_df.loc[error_df['Class']!= error_df['predicted']]\n",
        "error_df[error_df.Class==0].sort_values('pred_prob',axis=0,ascending=False)\n",
        "temp=X_test_copy[error_df[error_df.Class==1].sort_values('pred_prob',axis=0,ascending=False).index[0:2]].values\n",
        "print('The top two Real news mislabelled as Fake news are following ')\n",
        "print(1,'. ',temp[0])\n",
        "print(2,'. ',temp[1])\n",
        "temp=X_test_copy[error_df[error_df.Class==0].sort_values('pred_prob',axis=0,ascending=False).index[0:2]].values\n",
        "print('\\nThe top two Fake news mislabelled as Real news are following ')\n",
        "print(1,'. ',temp[0])\n",
        "print(2,'. ',temp[1])\n"
      ],
      "metadata": {
        "colab": {
          "base_uri": "https://localhost:8080/",
          "height": 643
        },
        "id": "SpGFKlLHIyhh",
        "outputId": "a14d10f7-e4c0-4aae-e95a-7814f503d9a3"
      },
      "execution_count": null,
      "outputs": [
        {
          "output_type": "stream",
          "name": "stdout",
          "text": [
            "Final training accuracy is 0.859 \n",
            "Final validation accuracy is 0.907 \n",
            "Final training loss is 0.5091 \n",
            "Final validation loss is 0.4371 \n",
            "              precision    recall  f1-score   support\n",
            "\n",
            "           0       0.92      0.89      0.90      7717\n",
            "           1       0.89      0.91      0.90      7100\n",
            "\n",
            "    accuracy                           0.90     14817\n",
            "   macro avg       0.90      0.90      0.90     14817\n",
            "weighted avg       0.90      0.90      0.90     14817\n",
            "\n",
            "As per f1-score Model performs equally good on predicting Real news and Fake news. \n",
            "The top two Real news mislabelled as Fake news are following \n",
            "1 .  obama to visit u . s . mosque to counter republican rhetoric about muslims\n",
            "2 .  cuba marks anniversary of fidel death as post - castro era nears\n",
            "\n",
            "The top two Fake news mislabelled as Real news are following \n",
            "1 .  eu leaders pledge extra € 1 billion in aid to refugees…slovakia will take eu to court over forced refugee quotas\n",
            "2 .  potential shift : trump warns israel , ‘new settlements may not help peace in middle east’\n"
          ]
        },
        {
          "output_type": "display_data",
          "data": {
            "image/png": "[encoded data removed]",
            "text/plain": [
              "<Figure size 432x288 with 2 Axes>"
            ]
          },
          "metadata": {
            "needs_background": "light"
          }
        }
      ]
    },
    {
      "cell_type": "markdown",
      "source": [
        "# Coclusion Across models\n",
        "1. As per finaly validation accuracy and loss Model2 (Without regularisation) performed well across all models. Absence of regularising contraint could be reson of good accuracy. \n",
        "2. Usually absence of regularisation leads to overfitting, but test accuracy and loss plots show model is not overfitting.\n",
        "3. Replotted best model's (model without regularistion) training and validation loss and accuracy curves below.    \n",
        "\n",
        "Final Validation Accuracy - 0.918    \n",
        "Final Validation loss - 0.2044    \n",
        "F1-score for True News - 0.92   \n",
        "F-1 score for Fake News - 0.91         \n",
        "\n"
      ],
      "metadata": {
        "id": "Uz8YceqJMvSA"
      }
    },
    {
      "cell_type": "code",
      "source": [
        "\n",
        "train_loss=history1.history['loss']\n",
        "val_loss=history1.history['val_loss']\n",
        "train_acc=history1.history['binary_accuracy']\n",
        "val_acc=history1.history['val_binary_accuracy']\n",
        "\n",
        "fig, ax = plt.subplots(1,2)\n",
        "ax[0].plot(train_loss)\n",
        "ax[0].plot(val_loss)\n",
        "ax[0].legend(['train','test'])\n",
        "\n",
        "\n",
        "ax[1].plot(train_acc)\n",
        "ax[1].plot(val_acc)\n",
        "ax[1].legend(['train','test'])\n",
        "\n",
        "ax[0].set_title('Loss')\n",
        "ax[1].set_title('Accuracy') \n",
        "\n",
        "ax[0].set_xlabel('epoch')\n",
        "ax[1].set_xlabel('epoch')\n",
        "\n",
        "ax[0].set_ylabel('Loss')\n",
        "ax[1].set_ylabel('Accuracy')\n",
        "\n",
        "fig.set_figheight(8)\n",
        "fig.set_figwidth(10)\n",
        "fig.tight_layout() \n",
        "\n",
        "plt.show() \n",
        "plt.show()\n"
      ],
      "metadata": {
        "colab": {
          "base_uri": "https://localhost:8080/",
          "height": 585
        },
        "id": "EXQtkY_iJwCk",
        "outputId": "df20234b-8ca9-4e7d-d4f2-d0a2dfc0e161"
      },
      "execution_count": null,
      "outputs": [
        {
          "output_type": "display_data",
          "data": {
            "image/png": "[encoded data removed]",
            "text/plain": [
              "<Figure size 720x576 with 2 Axes>"
            ]
          },
          "metadata": {
            "needs_background": "light"
          }
        }
      ]
    },
    {
      "cell_type": "code",
      "source": [
        ""
      ],
      "metadata": {
        "id": "MhRwQ8jpOaNG"
      },
      "execution_count": null,
      "outputs": []
    }
  ]
}