{
  "nbformat": 4,
  "nbformat_minor": 0,
  "metadata": {
    "colab": {
      "name": "weightpred.ipynb",
      "provenance": [],
      "collapsed_sections": [],
      "authorship_tag": "ABX9TyOEFZibD5a4PNooUfZNJr5d",
      "include_colab_link": true
    },
    "kernelspec": {
      "name": "python3",
      "display_name": "Python 3"
    },
    "language_info": {
      "name": "python"
    }
  },
  "cells": [
    {
      "cell_type": "markdown",
      "metadata": {
        "id": "view-in-github",
        "colab_type": "text"
      },
      "source": [
        "<a href=\"https://colab.research.google.com/github/ankojubhanuprakash/WorkSpace/blob/main/weightpred_pytoch.ipynb\" target=\"_parent\"><img src=\"https://colab.research.google.com/assets/colab-badge.svg\" alt=\"Open In Colab\"/></a>"
      ]
    },
    {
      "cell_type": "code",
      "metadata": {
        "id": "Qo3fQgMisgjU"
      },
      "source": [
        "#@title Default title text\n",
        "import scipy.io\n",
        "mat = scipy.io.loadmat('metadata.mat')"
      ],
      "execution_count": 1,
      "outputs": []
    },
    {
      "cell_type": "code",
      "metadata": {
        "id": "221idPNltqmV"
      },
      "source": [
        "import pandas as pd\n",
        "import numpy as np"
      ],
      "execution_count": 14,
      "outputs": []
    },
    {
      "cell_type": "code",
      "metadata": {
        "id": "frM7fwBeyCgh"
      },
      "source": [
        "import torch\n",
        "import numpy as np\n",
        "import random\n",
        "import matplotlib.pyplot as plt\n",
        "#from torch._C import T\n",
        "from torch.nn.modules.conv import ConvTranspose2d\n",
        "import torchvision\n",
        "from torchvision.transforms import ToTensor, Normalize, Compose\n",
        "from torchvision.datasets import MNIST\n",
        "from torch.utils.data import DataLoader,Dataset\n",
        "import torch.nn as nn\n",
        "import torch.optim as optim\n",
        "import torch.nn.functional as F"
      ],
      "execution_count": 62,
      "outputs": []
    },
    {
      "cell_type": "code",
      "metadata": {
        "colab": {
          "base_uri": "https://localhost:8080/"
        },
        "id": "LVqxt030s_ck",
        "outputId": "ff87f5f0-5569-4174-bde0-3e28fff738bc"
      },
      "source": [
        "for i in list(mat.keys())[3:]:\n",
        "  print(i,pd.Series(np.array(mat[i]).flatten()).shape)\n",
        "\n",
        "np.array(mat['pressure']).shape"
      ],
      "execution_count": 18,
      "outputs": [
        {
          "output_type": "stream",
          "name": "stdout",
          "text": [
            "recordings (27,)\n",
            "recordingId (11682,)\n",
            "objects (27,)\n",
            "objectId (11682,)\n",
            "pressure (11962368,)\n",
            "frame (11682,)\n",
            "ts (11682,)\n",
            "graspIndex (11682,)\n",
            "graspValid (11682,)\n",
            "batchId (11682,)\n",
            "batches (1,)\n",
            "weights (27,)\n"
          ]
        },
        {
          "output_type": "execute_result",
          "data": {
            "text/plain": [
              "(11682, 32, 32)"
            ]
          },
          "metadata": {},
          "execution_count": 18
        }
      ]
    },
    {
      "cell_type": "code",
      "metadata": {
        "colab": {
          "base_uri": "https://localhost:8080/",
          "height": 881
        },
        "id": "T_3hkI1HtF1R",
        "outputId": "82908d61-3d60-49dd-dbe4-61f48af093c1"
      },
      "source": [
        "pd.DataFrame([np.array(mat['objects']).T.flatten(),np.array(mat['weights']).T.flatten()]).T"
      ],
      "execution_count": 43,
      "outputs": [
        {
          "output_type": "execute_result",
          "data": {
            "text/html": [
              "<div>\n",
              "<style scoped>\n",
              "    .dataframe tbody tr th:only-of-type {\n",
              "        vertical-align: middle;\n",
              "    }\n",
              "\n",
              "    .dataframe tbody tr th {\n",
              "        vertical-align: top;\n",
              "    }\n",
              "\n",
              "    .dataframe thead th {\n",
              "        text-align: right;\n",
              "    }\n",
              "</style>\n",
              "<table border=\"1\" class=\"dataframe\">\n",
              "  <thead>\n",
              "    <tr style=\"text-align: right;\">\n",
              "      <th></th>\n",
              "      <th>0</th>\n",
              "      <th>1</th>\n",
              "    </tr>\n",
              "  </thead>\n",
              "  <tbody>\n",
              "    <tr>\n",
              "      <th>0</th>\n",
              "      <td>[empty_hand]</td>\n",
              "      <td>0</td>\n",
              "    </tr>\n",
              "    <tr>\n",
              "      <th>1</th>\n",
              "      <td>[allen_key_set]</td>\n",
              "      <td>350</td>\n",
              "    </tr>\n",
              "    <tr>\n",
              "      <th>2</th>\n",
              "      <td>[ball]</td>\n",
              "      <td>55</td>\n",
              "    </tr>\n",
              "    <tr>\n",
              "      <th>3</th>\n",
              "      <td>[battery]</td>\n",
              "      <td>135</td>\n",
              "    </tr>\n",
              "    <tr>\n",
              "      <th>4</th>\n",
              "      <td>[board_eraser]</td>\n",
              "      <td>41</td>\n",
              "    </tr>\n",
              "    <tr>\n",
              "      <th>5</th>\n",
              "      <td>[bracket]</td>\n",
              "      <td>53</td>\n",
              "    </tr>\n",
              "    <tr>\n",
              "      <th>6</th>\n",
              "      <td>[brain]</td>\n",
              "      <td>23</td>\n",
              "    </tr>\n",
              "    <tr>\n",
              "      <th>7</th>\n",
              "      <td>[cat]</td>\n",
              "      <td>679</td>\n",
              "    </tr>\n",
              "    <tr>\n",
              "      <th>8</th>\n",
              "      <td>[chain]</td>\n",
              "      <td>142</td>\n",
              "    </tr>\n",
              "    <tr>\n",
              "      <th>9</th>\n",
              "      <td>[clip]</td>\n",
              "      <td>24</td>\n",
              "    </tr>\n",
              "    <tr>\n",
              "      <th>10</th>\n",
              "      <td>[coin]</td>\n",
              "      <td>14</td>\n",
              "    </tr>\n",
              "    <tr>\n",
              "      <th>11</th>\n",
              "      <td>[empty_can]</td>\n",
              "      <td>13</td>\n",
              "    </tr>\n",
              "    <tr>\n",
              "      <th>12</th>\n",
              "      <td>[full_can]</td>\n",
              "      <td>382</td>\n",
              "    </tr>\n",
              "    <tr>\n",
              "      <th>13</th>\n",
              "      <td>[gel]</td>\n",
              "      <td>127</td>\n",
              "    </tr>\n",
              "    <tr>\n",
              "      <th>14</th>\n",
              "      <td>[kiwano]</td>\n",
              "      <td>146</td>\n",
              "    </tr>\n",
              "    <tr>\n",
              "      <th>15</th>\n",
              "      <td>[lotion]</td>\n",
              "      <td>320</td>\n",
              "    </tr>\n",
              "    <tr>\n",
              "      <th>16</th>\n",
              "      <td>[mug]</td>\n",
              "      <td>509</td>\n",
              "    </tr>\n",
              "    <tr>\n",
              "      <th>17</th>\n",
              "      <td>[multimeter]</td>\n",
              "      <td>396</td>\n",
              "    </tr>\n",
              "    <tr>\n",
              "      <th>18</th>\n",
              "      <td>[pen]</td>\n",
              "      <td>11</td>\n",
              "    </tr>\n",
              "    <tr>\n",
              "      <th>19</th>\n",
              "      <td>[safety_glasses]</td>\n",
              "      <td>23</td>\n",
              "    </tr>\n",
              "    <tr>\n",
              "      <th>20</th>\n",
              "      <td>[scissors]</td>\n",
              "      <td>83</td>\n",
              "    </tr>\n",
              "    <tr>\n",
              "      <th>21</th>\n",
              "      <td>[screw_driver]</td>\n",
              "      <td>8</td>\n",
              "    </tr>\n",
              "    <tr>\n",
              "      <th>22</th>\n",
              "      <td>[spoon]</td>\n",
              "      <td>4</td>\n",
              "    </tr>\n",
              "    <tr>\n",
              "      <th>23</th>\n",
              "      <td>[spray_can]</td>\n",
              "      <td>29</td>\n",
              "    </tr>\n",
              "    <tr>\n",
              "      <th>24</th>\n",
              "      <td>[stapler]</td>\n",
              "      <td>162</td>\n",
              "    </tr>\n",
              "    <tr>\n",
              "      <th>25</th>\n",
              "      <td>[tape]</td>\n",
              "      <td>30</td>\n",
              "    </tr>\n",
              "    <tr>\n",
              "      <th>26</th>\n",
              "      <td>[tea_box]</td>\n",
              "      <td>188</td>\n",
              "    </tr>\n",
              "  </tbody>\n",
              "</table>\n",
              "</div>"
            ],
            "text/plain": [
              "                   0    1\n",
              "0       [empty_hand]    0\n",
              "1    [allen_key_set]  350\n",
              "2             [ball]   55\n",
              "3          [battery]  135\n",
              "4     [board_eraser]   41\n",
              "5          [bracket]   53\n",
              "6            [brain]   23\n",
              "7              [cat]  679\n",
              "8            [chain]  142\n",
              "9             [clip]   24\n",
              "10            [coin]   14\n",
              "11       [empty_can]   13\n",
              "12        [full_can]  382\n",
              "13             [gel]  127\n",
              "14          [kiwano]  146\n",
              "15          [lotion]  320\n",
              "16             [mug]  509\n",
              "17      [multimeter]  396\n",
              "18             [pen]   11\n",
              "19  [safety_glasses]   23\n",
              "20        [scissors]   83\n",
              "21    [screw_driver]    8\n",
              "22           [spoon]    4\n",
              "23       [spray_can]   29\n",
              "24         [stapler]  162\n",
              "25            [tape]   30\n",
              "26         [tea_box]  188"
            ]
          },
          "metadata": {},
          "execution_count": 43
        }
      ]
    },
    {
      "cell_type": "code",
      "metadata": {
        "colab": {
          "base_uri": "https://localhost:8080/"
        },
        "id": "eihRR_ZQxABz",
        "outputId": "f2bfc420-4023-4f6d-95fc-fc4bae3c02e3"
      },
      "source": [
        "torch.Tensor(np.array(mat['objectId'],dtype=np.int32).flatten()).shape"
      ],
      "execution_count": 84,
      "outputs": [
        {
          "output_type": "execute_result",
          "data": {
            "text/plain": [
              "torch.Size([11682])"
            ]
          },
          "metadata": {},
          "execution_count": 84
        }
      ]
    },
    {
      "cell_type": "code",
      "metadata": {
        "id": "1XADmBqLx3dl"
      },
      "source": [
        "presure_data = torch.Tensor(np.array(mat['pressure']))\n",
        "pressure_data = presure_data.view(11682,-1,32,32)"
      ],
      "execution_count": 52,
      "outputs": []
    },
    {
      "cell_type": "code",
      "metadata": {
        "id": "iHH4s2rbybE6"
      },
      "source": [
        "class Pressure_Weight_data(Dataset):\n",
        "  def __init__(self,pressure,weights,objectid):\n",
        "    self.pressure_data = torch.Tensor(pressure)\n",
        "    self.pressure_data = self.pressure_data.view(len(self.pressure_data),-1,32,32)\n",
        "    self.weights = torch.Tensor(weights)\n",
        "    self.objectid = objectid\n",
        "  def __len__(self):\n",
        "    return len(self.pressure_data )\n",
        "  def __getitem__(self,index):\n",
        "    #mean,std = self.pressure_data[index].mean(),self.pressure_data[index].std()\n",
        "    return(self.pressure_data[index].normal_(0,4 ),self.weights[self.objectid[index]])    \n",
        "\n"
      ],
      "execution_count": 247,
      "outputs": []
    },
    {
      "cell_type": "code",
      "metadata": {
        "id": "bHnIDk8HyoA8"
      },
      "source": [
        "PoplationData =  Pressure_Weight_data(np.array(mat['pressure']),np.array(mat['weights'],dtype=np.int32),np.array(mat['objectId'],dtype=np.int32).flatten())\n"
      ],
      "execution_count": 248,
      "outputs": []
    },
    {
      "cell_type": "code",
      "metadata": {
        "id": "FHo8XLS_Senu"
      },
      "source": [
        "a = PoplationData[0][0].mean()\n",
        "b = PoplationData[0][0].std()"
      ],
      "execution_count": 245,
      "outputs": []
    },
    {
      "cell_type": "code",
      "metadata": {
        "colab": {
          "base_uri": "https://localhost:8080/"
        },
        "id": "vVHaP9PZXhIL",
        "outputId": "1237e5fb-334c-4c35-9337-931666d4ed30"
      },
      "source": [
        "PoplationData[0][0]"
      ],
      "execution_count": 249,
      "outputs": [
        {
          "output_type": "execute_result",
          "data": {
            "text/plain": [
              "tensor([[[ 2.0439,  1.3678,  5.0173,  ..., -2.2368, -2.6360, -2.9025],\n",
              "         [ 4.7536,  1.1726, -2.3575,  ...,  3.0818, -0.2997,  0.9877],\n",
              "         [ 5.5732, -1.8075, -0.0758,  ...,  4.6540, -8.9022, -6.8763],\n",
              "         ...,\n",
              "         [ 7.8873,  4.0661, -5.1776,  ...,  0.1340, -4.3859,  1.4466],\n",
              "         [ 8.0980,  2.0807, -2.7481,  ...,  0.9079,  5.3505,  3.7288],\n",
              "         [ 2.3662,  5.7921,  4.9514,  ..., -1.8332,  3.8592,  6.1236]]])"
            ]
          },
          "metadata": {},
          "execution_count": 249
        }
      ]
    },
    {
      "cell_type": "code",
      "metadata": {
        "colab": {
          "base_uri": "https://localhost:8080/"
        },
        "id": "MH8VJI2KNHCs",
        "outputId": "a0bd083e-4a9a-42b8-9fe5-0032410e66c1"
      },
      "source": [
        "torch.Tensor(np.array(mat['weights'],dtype=np.int32))"
      ],
      "execution_count": 154,
      "outputs": [
        {
          "output_type": "execute_result",
          "data": {
            "text/plain": [
              "tensor([[  0.],\n",
              "        [350.],\n",
              "        [ 55.],\n",
              "        [135.],\n",
              "        [ 41.],\n",
              "        [ 53.],\n",
              "        [ 23.],\n",
              "        [679.],\n",
              "        [142.],\n",
              "        [ 24.],\n",
              "        [ 14.],\n",
              "        [ 13.],\n",
              "        [382.],\n",
              "        [127.],\n",
              "        [146.],\n",
              "        [320.],\n",
              "        [509.],\n",
              "        [396.],\n",
              "        [ 11.],\n",
              "        [ 23.],\n",
              "        [ 83.],\n",
              "        [  8.],\n",
              "        [  4.],\n",
              "        [ 29.],\n",
              "        [162.],\n",
              "        [ 30.],\n",
              "        [188.]])"
            ]
          },
          "metadata": {},
          "execution_count": 154
        }
      ]
    },
    {
      "cell_type": "code",
      "metadata": {
        "id": "fwtS5KXQ5BFm"
      },
      "source": [
        "#train test split\n",
        "train_set,hold_set,test_set = torch.utils.data.random_split(PoplationData,[8177,2000,1505])"
      ],
      "execution_count": 250,
      "outputs": []
    },
    {
      "cell_type": "code",
      "metadata": {
        "id": "KxLTunrq5zwI"
      },
      "source": [
        "train_loader = DataLoader(train_set,batch_size=100,shuffle=True)\n",
        "Valid_loader = DataLoader(hold_set,batch_size=50,shuffle=True)\n"
      ],
      "execution_count": 282,
      "outputs": []
    },
    {
      "cell_type": "code",
      "metadata": {
        "id": "Ln71Si3zKVrZ"
      },
      "source": [
        "cc = nn.Conv2d(1, 32, kernel_size=8, stride=4)"
      ],
      "execution_count": 252,
      "outputs": []
    },
    {
      "cell_type": "code",
      "metadata": {
        "id": "XTuAJ08jKYe1"
      },
      "source": [
        "kk=torch.zeros([1,32,32])"
      ],
      "execution_count": 253,
      "outputs": []
    },
    {
      "cell_type": "code",
      "metadata": {
        "colab": {
          "base_uri": "https://localhost:8080/"
        },
        "id": "g1LIApy6KxmE",
        "outputId": "355829a9-4538-4e93-d2be-093b00265897"
      },
      "source": [
        "model._get_conv_out([1,32,32])"
      ],
      "execution_count": 254,
      "outputs": [
        {
          "output_type": "execute_result",
          "data": {
            "text/plain": [
              "160"
            ]
          },
          "metadata": {},
          "execution_count": 254
        }
      ]
    },
    {
      "cell_type": "code",
      "metadata": {
        "id": "H242XD7L6E7y"
      },
      "source": [
        "#\n",
        "# Building Our Mode\n",
        "class Network(nn.Module):\n",
        "    # Declaring the Architecture\n",
        "    def __init__(self):\n",
        "        super(Network,self).__init__()\n",
        "        self.conv = nn.Sequential(\n",
        "            nn.Conv2d(1, 32, kernel_size=4, stride=2),\n",
        "            nn.ReLU(),\n",
        "            nn.Conv2d(32, 64, kernel_size=4, stride=2),\n",
        "            nn.ReLU(),\n",
        "            nn.Conv2d(64, 10, kernel_size=3, stride=1),\n",
        "            nn.ReLU()   \n",
        "             )\n",
        "        conv_out_size = self._get_conv_out([1,32,32])\n",
        "        self.fc = nn.Sequential(\n",
        "                nn.Linear(conv_out_size, 10),\n",
        "                nn.ReLU(),\n",
        "                nn.Linear(10, 5) ,\n",
        "                nn.ReLU(),\n",
        "                #nn.Linear(100, 10),\n",
        "                #nn.ReLU(),\n",
        "                nn.Linear(5,1 )\n",
        "                                  )\n",
        "    def _get_conv_out(self, shape):\n",
        "      o = self.conv(torch.zeros(1, *shape))\n",
        "      return int(np.prod(o.size()))\n",
        "\n",
        "\n",
        "    # Forward Pass\n",
        "    def forward(self, x):\n",
        "        conv_out = self.conv(x).view(x.size()[0], -1)\n",
        "        return self.fc(conv_out)\n",
        "        \n"
      ],
      "execution_count": 260,
      "outputs": []
    },
    {
      "cell_type": "code",
      "metadata": {
        "id": "kKZgKfO2QlP4"
      },
      "source": [
        "model = Network()\n",
        "train_arr,valid_arr = [],[]\n",
        "\n"
      ],
      "execution_count": 299,
      "outputs": []
    },
    {
      "cell_type": "code",
      "metadata": {
        "colab": {
          "base_uri": "https://localhost:8080/"
        },
        "id": "gkpKr_n5LtT8",
        "outputId": "7b063080-0d67-4afd-f31a-52b2b29eb17b"
      },
      "source": [
        " # Declaring Criterion and Optimizer\n",
        "criterion = nn.MSELoss()\n",
        "optimizer = torch.optim.SGD(model.parameters(), lr = 0.05)\n",
        " \n",
        "# Training with Validation\n",
        "epochs = 40\n",
        "min_valid_loss = np.inf\n",
        " \n",
        "for e in range(epochs):\n",
        "    train_loss = 0.0\n",
        "    for data, labels in train_loader:\n",
        "        # Transfer Data to GPU if available\n",
        "        if torch.cuda.is_available():\n",
        "            data, labels = data.cuda(), labels.cuda()\n",
        "         \n",
        "        # Clear the gradients\n",
        "        optimizer.zero_grad()\n",
        "        # Forward Pass\n",
        "        target = model(data)\n",
        "        #print(labels,target)\n",
        "        #xx=input()\n",
        "\n",
        "        # Find the Loss\n",
        "        loss = criterion(target,labels)\n",
        "\n",
        "        #print(loss,labels,target)\n",
        "        #xx=input()\n",
        "        # Calculate gradients\n",
        "        loss.backward()\n",
        "        # Update Weights\n",
        "        optimizer.step()\n",
        "        # Calculate Loss\n",
        "        train_loss += loss.item()\n",
        "     \n",
        "    valid_loss = 0.0\n",
        "    #model.eval()     # Optional when not using Model Specific layer\n",
        "    for data, labels in Valid_loader:\n",
        "        # Transfer Data to GPU if available\n",
        "        if torch.cuda.is_available():\n",
        "            data, labels = data.cuda(), labels.cuda()\n",
        "         \n",
        "        # Forward Pass\n",
        "        target = model(data)\n",
        "        # Find the Loss\n",
        "        loss = criterion(target,labels)\n",
        "        # Calculate Loss\n",
        "        valid_loss += loss.item()\n",
        " \n",
        "    print(f'Epoch {e+1} \\t\\t Training Loss: {\\\n",
        "    train_loss / len(train_loader)} \\t\\t Validation Loss: {\\\n",
        "    valid_loss / len(Valid_loader)}')\n",
        "    train_arr.append(train_loss / len(train_loader)),valid_arr.append(valid_loss / len(Valid_loader))\n",
        "    \n",
        "     \n",
        "    if min_valid_loss > valid_loss:\n",
        "        print(f'Validation Loss Decreased({min_valid_loss:.6f}--->{valid_loss:.6f}) \\t Saving The Model')\n",
        "        min_valid_loss = valid_loss\n",
        "         \n",
        "        # Saving State Dict\n",
        "        #torch.save(model.state_dict(), 'saved_model.pth')\n",
        "\n"
      ],
      "execution_count": 300,
      "outputs": [
        {
          "output_type": "stream",
          "name": "stdout",
          "text": [
            "Epoch 1 \t\t Training Loss: 3627438604380.6226 \t\t Validation Loss: 201406.251953125\n",
            "Validation Loss Decreased(inf--->8056250.078125) \t Saving The Model\n",
            "Epoch 2 \t\t Training Loss: 41394.86335270579 \t\t Validation Loss: 32186.65524902344\n",
            "Validation Loss Decreased(8056250.078125--->1287466.209961) \t Saving The Model\n",
            "Epoch 3 \t\t Training Loss: 30512.084532202745 \t\t Validation Loss: 32208.05625\n",
            "Epoch 4 \t\t Training Loss: 30551.32402820122 \t\t Validation Loss: 32184.815771484376\n",
            "Validation Loss Decreased(1287466.209961--->1287392.630859) \t Saving The Model\n",
            "Epoch 5 \t\t Training Loss: 30529.22549066311 \t\t Validation Loss: 32187.29990234375\n",
            "Epoch 6 \t\t Training Loss: 30532.972894435974 \t\t Validation Loss: 32205.053588867188\n",
            "Epoch 7 \t\t Training Loss: 30529.304854230184 \t\t Validation Loss: 32195.905859375\n",
            "Epoch 8 \t\t Training Loss: 30541.382729134908 \t\t Validation Loss: 32185.118017578126\n",
            "Epoch 9 \t\t Training Loss: 30520.44774199695 \t\t Validation Loss: 32189.29248046875\n",
            "Epoch 10 \t\t Training Loss: 30524.222227515245 \t\t Validation Loss: 32215.62607421875\n",
            "Epoch 11 \t\t Training Loss: 30582.60792206555 \t\t Validation Loss: 32193.208984375\n",
            "Epoch 12 \t\t Training Loss: 30519.386742568597 \t\t Validation Loss: 32183.913525390624\n",
            "Validation Loss Decreased(1287392.630859--->1287356.541016) \t Saving The Model\n",
            "Epoch 13 \t\t Training Loss: 30511.021341463416 \t\t Validation Loss: 32193.545068359374\n",
            "Epoch 14 \t\t Training Loss: 30500.931783536584 \t\t Validation Loss: 32278.930029296876\n",
            "Epoch 15 \t\t Training Loss: 30527.894888528965 \t\t Validation Loss: 32195.806640625\n",
            "Epoch 16 \t\t Training Loss: 30561.725347751526 \t\t Validation Loss: 32192.84016113281\n",
            "Epoch 17 \t\t Training Loss: 30545.167301829268 \t\t Validation Loss: 32208.63508300781\n",
            "Epoch 18 \t\t Training Loss: 30566.858517530487 \t\t Validation Loss: 32191.511450195314\n",
            "Epoch 19 \t\t Training Loss: 30533.13788586128 \t\t Validation Loss: 32189.070678710938\n",
            "Epoch 20 \t\t Training Loss: 30492.394674161584 \t\t Validation Loss: 32308.29963378906\n",
            "Epoch 21 \t\t Training Loss: 30553.38993426067 \t\t Validation Loss: 32183.509912109374\n",
            "Validation Loss Decreased(1287356.541016--->1287340.396484) \t Saving The Model\n",
            "Epoch 22 \t\t Training Loss: 30539.70274390244 \t\t Validation Loss: 32183.581298828125\n",
            "Epoch 23 \t\t Training Loss: 30548.029296875 \t\t Validation Loss: 32184.1740234375\n",
            "Epoch 24 \t\t Training Loss: 30523.814619855184 \t\t Validation Loss: 32184.124609375\n",
            "Epoch 25 \t\t Training Loss: 30500.727324695123 \t\t Validation Loss: 32311.68818359375\n",
            "Epoch 26 \t\t Training Loss: 30526.008765243903 \t\t Validation Loss: 32211.812451171874\n",
            "Epoch 27 \t\t Training Loss: 30546.415086699693 \t\t Validation Loss: 32211.1546875\n",
            "Epoch 28 \t\t Training Loss: 30537.045326791158 \t\t Validation Loss: 32194.002734375\n",
            "Epoch 29 \t\t Training Loss: 30554.241782583842 \t\t Validation Loss: 32193.471728515626\n",
            "Epoch 30 \t\t Training Loss: 30495.97725323933 \t\t Validation Loss: 32273.498583984376\n",
            "Epoch 31 \t\t Training Loss: 30556.819026295732 \t\t Validation Loss: 32192.52834472656\n",
            "Epoch 32 \t\t Training Loss: 30553.342320884145 \t\t Validation Loss: 32183.721337890624\n",
            "Epoch 33 \t\t Training Loss: 30543.1396484375 \t\t Validation Loss: 32189.617724609376\n",
            "Epoch 34 \t\t Training Loss: 30526.932950647864 \t\t Validation Loss: 32229.813427734374\n",
            "Epoch 35 \t\t Training Loss: 30564.555735518294 \t\t Validation Loss: 32184.838940429687\n",
            "Epoch 36 \t\t Training Loss: 30550.470726943597 \t\t Validation Loss: 32195.549560546875\n",
            "Epoch 37 \t\t Training Loss: 30557.395436356706 \t\t Validation Loss: 32307.37041015625\n",
            "Epoch 38 \t\t Training Loss: 30530.679758955794 \t\t Validation Loss: 32183.4736328125\n",
            "Validation Loss Decreased(1287340.396484--->1287338.945312) \t Saving The Model\n",
            "Epoch 39 \t\t Training Loss: 30549.786085175307 \t\t Validation Loss: 32200.668823242188\n",
            "Epoch 40 \t\t Training Loss: 30509.938595655487 \t\t Validation Loss: 32200.06748046875\n"
          ]
        }
      ]
    },
    {
      "cell_type": "code",
      "metadata": {
        "colab": {
          "base_uri": "https://localhost:8080/",
          "height": 276
        },
        "id": "FTyyWLhr5CRQ",
        "outputId": "ec5b826f-90bd-4461-e8be-db54638aa9ca"
      },
      "source": [
        "plt.plot(train_arr,label='train')\n",
        "plt.plot(valid_arr,label='valid')\n",
        "plt.legend()\n",
        "plt.show()"
      ],
      "execution_count": 304,
      "outputs": [
        {
          "output_type": "display_data",
          "data": {
            "image/png": "[encoded data removed]",
            "text/plain": [
              "<Figure size 432x288 with 1 Axes>"
            ]
          },
          "metadata": {
            "needs_background": "light"
          }
        }
      ]
    },
    {
      "cell_type": "code",
      "metadata": {
        "id": "WBuk77tg5CVQ"
      },
      "source": [
        ""
      ],
      "execution_count": null,
      "outputs": []
    },
    {
      "cell_type": "code",
      "metadata": {
        "colab": {
          "base_uri": "https://localhost:8080/"
        },
        "id": "u9u3aCfoytVJ",
        "outputId": "d1204c7d-c7bd-48ff-b49e-a6f55daafe4c"
      },
      "source": [
        "len(PoplationData)"
      ],
      "execution_count": 111,
      "outputs": [
        {
          "output_type": "execute_result",
          "data": {
            "text/plain": [
              "11682"
            ]
          },
          "metadata": {},
          "execution_count": 111
        }
      ]
    },
    {
      "cell_type": "code",
      "metadata": {
        "colab": {
          "base_uri": "https://localhost:8080/"
        },
        "id": "rzp0alAn4nbl",
        "outputId": "4eda3fe8-27de-417b-fbb9-1c2938238047"
      },
      "source": [
        "11682-8177"
      ],
      "execution_count": 112,
      "outputs": [
        {
          "output_type": "execute_result",
          "data": {
            "text/plain": [
              "3505"
            ]
          },
          "metadata": {},
          "execution_count": 112
        }
      ]
    },
    {
      "cell_type": "code",
      "metadata": {
        "colab": {
          "base_uri": "https://localhost:8080/"
        },
        "id": "tTTBBdqvu7LE",
        "outputId": "e4cdf453-b090-4921-cff4-c695a389b8ce"
      },
      "source": [
        "mat['objectId'][0]"
      ],
      "execution_count": 100,
      "outputs": [
        {
          "output_type": "execute_result",
          "data": {
            "text/plain": [
              "array([8], dtype=uint8)"
            ]
          },
          "metadata": {},
          "execution_count": 100
        }
      ]
    },
    {
      "cell_type": "code",
      "metadata": {
        "colab": {
          "base_uri": "https://localhost:8080/"
        },
        "id": "hK9KHAuNvL-v",
        "outputId": "ac68ea03-7149-46f8-a080-19d5882bb55e"
      },
      "source": [
        "np.array(mat['weights'])[8]"
      ],
      "execution_count": 101,
      "outputs": [
        {
          "output_type": "execute_result",
          "data": {
            "text/plain": [
              "array([142], dtype=uint16)"
            ]
          },
          "metadata": {},
          "execution_count": 101
        }
      ]
    },
    {
      "cell_type": "code",
      "metadata": {
        "id": "eZlg7VrnwKzb"
      },
      "source": [
        ""
      ],
      "execution_count": null,
      "outputs": []
    }
  ]
}