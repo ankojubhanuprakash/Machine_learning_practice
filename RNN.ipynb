{
  "nbformat": 4,
  "nbformat_minor": 0,
  "metadata": {
    "colab": {
      "name": "RNN.ipynb",
      "provenance": [],
      "collapsed_sections": [],
      "authorship_tag": "ABX9TyPQxe/tXdFsGEBlEIVFuZ4Z",
      "include_colab_link": true
    },
    "kernelspec": {
      "name": "python3",
      "display_name": "Python 3"
    },
    "language_info": {
      "name": "python"
    }
  },
  "cells": [
    {
      "cell_type": "markdown",
      "metadata": {
        "id": "view-in-github",
        "colab_type": "text"
      },
      "source": [
        "<a href=\"https://colab.research.google.com/github/ankojubhanuprakash/WorkSpace/blob/main/RNN.ipynb\" target=\"_parent\"><img src=\"https://colab.research.google.com/assets/colab-badge.svg\" alt=\"Open In Colab\"/></a>"
      ]
    },
    {
      "cell_type": "code",
      "metadata": {
        "id": "o7Uc1-WTfmYu"
      },
      "source": [
        "import torch\n",
        "from torch import nn",
        "rnn = nn.RNN(3,4)"
      ],
      "execution_count": 1,
      "outputs": []
    },
    {
      "cell_type": "code",
      "metadata": {
        "colab": {
          "base_uri": "https://localhost:8080/"
        },
        "id": "g2GJ8nj-f5Zp",
        "outputId": "01138221-f2b3-4409-dd7b-5fc746321740"
      },
      "source": [
        "# so 1 sample point will  have 10 features and have some some sequence lenght lets say, we have seqquence length of 5. so each sample point looks like\n",
        "print(torch.randn(3,5))\n",
        "# we have 10 features each with sequence lenth of 5. the input tensor (L,N,Hin) when batch_first=False default False\n",
        "input=torch.randn(5,2,3)\n",
        "print(input)\n",
        "# we have 2 sample with shape 10 features with sequence length"
      ],
      "execution_count": 25,
      "outputs": [
        {
          "output_type": "stream",
          "name": "stdout",
          "text": [
            "tensor([[ 1.7777,  0.7105,  0.1224, -0.1354, -1.6190],\n",
            "        [ 1.0110,  0.2751,  1.0644, -0.0999, -1.7102],\n",
            "        [-1.4980,  0.5202,  0.7460,  0.1182,  0.6877]])\n",
            "tensor([[[-0.6339, -0.2612, -1.2189],\n",
            "         [ 0.0057,  0.1715, -0.3797]],\n",
            "\n",
            "        [[-0.9139, -2.0232,  0.4269],\n",
            "         [ 0.2567, -0.0070,  0.2327]],\n",
            "\n",
            "        [[ 0.3157,  0.7589, -1.4333],\n",
            "         [ 1.3561,  1.0168, -0.7932]],\n",
            "\n",
            "        [[ 1.4108,  0.5264,  0.6763],\n",
            "         [ 0.5260,  1.0685,  0.2352]],\n",
            "\n",
            "        [[ 0.2592,  1.3589, -0.8535],\n",
            "         [-0.1820,  1.0606,  1.1185]]])\n"
          ]
        }
      ]
    },
    {
      "cell_type": "code",
      "metadata": {
        "colab": {
          "base_uri": "https://localhost:8080/"
        },
        "id": "arMOQi_2jDLv",
        "outputId": "d98f10c0-96fb-486e-869f-ca374f856b94"
      },
      "source": [
        "#output would be definitely 2 samples, output with shape of 4(hidden) and sequence length 5. since batch_first = false outpout will be (L,N,Ho) is (5,2,4)\n",
        "# Also outpout of RNN cell would yield outpout and last hidden activation for each feture\n",
        "output,final_hidden=rnn(input)\n",
        "print(output.shape,final_hidden.shape)\n",
        "# input is (5,2,3)\n",
        "# rnn cell is nn.RNN(3,4)\n",
        "# output is (5,2,4) & final hidden activation is (1,2,4)"
      ],
      "execution_count": 26,
      "outputs": [
        {
          "output_type": "stream",
          "name": "stdout",
          "text": [
            "torch.Size([5, 2, 4]) torch.Size([1, 2, 4])\n"
          ]
        }
      ]
    },
    {
      "cell_type": "code",
      "metadata": {
        "id": "8IoX3z22nRsy"
      },
      "source": [
        ""
      ],
      "execution_count": null,
      "outputs": []
    }
  ]
}
