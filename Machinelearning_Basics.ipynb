{
  "nbformat": 4,
  "nbformat_minor": 0,
  "metadata": {
    "kernelspec": {
      "display_name": "Python 3",
      "language": "python",
      "name": "python3"
    },
    "language_info": {
      "codemirror_mode": {
        "name": "ipython",
        "version": 3
      },
      "file_extension": ".py",
      "mimetype": "text/x-python",
      "name": "python",
      "nbconvert_exporter": "python",
      "pygments_lexer": "ipython3",
      "version": "3.6.5"
    },
    "colab": {
      "name": "machinelearning.ipynb",
      "provenance": []
    }
  },
  "cells": [
    {
      "cell_type": "code",
      "metadata": {
        "id": "TPQxon1XCcZk"
      },
      "source": [
        "import pandas as pd\n",
        "import numpy as np\n",
        "import seaborn as sns\n",
        "import matplotlib.pyplot as plt\n",
        "%matplotlib inline"
      ],
      "execution_count": null,
      "outputs": []
    },
    {
      "cell_type": "code",
      "metadata": {
        "id": "FSjLkZVlCcZp"
      },
      "source": [
        "data = pd.read_csv('german_credit_data.csv')"
      ],
      "execution_count": null,
      "outputs": []
    },
    {
      "cell_type": "code",
      "metadata": {
        "id": "6X-kRBblCcZs",
        "outputId": "2a432846-e989-4888-9dca-e2e013893cc3"
      },
      "source": [
        "data.sample(10)"
      ],
      "execution_count": null,
      "outputs": [
        {
          "output_type": "execute_result",
          "data": {
            "text/html": [
              "<div>\n",
              "<style scoped>\n",
              "    .dataframe tbody tr th:only-of-type {\n",
              "        vertical-align: middle;\n",
              "    }\n",
              "\n",
              "    .dataframe tbody tr th {\n",
              "        vertical-align: top;\n",
              "    }\n",
              "\n",
              "    .dataframe thead th {\n",
              "        text-align: right;\n",
              "    }\n",
              "</style>\n",
              "<table border=\"1\" class=\"dataframe\">\n",
              "  <thead>\n",
              "    <tr style=\"text-align: right;\">\n",
              "      <th></th>\n",
              "      <th>Unnamed: 0</th>\n",
              "      <th>Age</th>\n",
              "      <th>Sex</th>\n",
              "      <th>Job</th>\n",
              "      <th>Housing</th>\n",
              "      <th>Saving accounts</th>\n",
              "      <th>Checking account</th>\n",
              "      <th>Credit amount</th>\n",
              "      <th>Duration</th>\n",
              "      <th>Purpose</th>\n",
              "      <th>Risk</th>\n",
              "    </tr>\n",
              "  </thead>\n",
              "  <tbody>\n",
              "    <tr>\n",
              "      <th>704</th>\n",
              "      <td>704</td>\n",
              "      <td>32</td>\n",
              "      <td>female</td>\n",
              "      <td>2</td>\n",
              "      <td>own</td>\n",
              "      <td>little</td>\n",
              "      <td>moderate</td>\n",
              "      <td>2528</td>\n",
              "      <td>27</td>\n",
              "      <td>business</td>\n",
              "      <td>good</td>\n",
              "    </tr>\n",
              "    <tr>\n",
              "      <th>752</th>\n",
              "      <td>752</td>\n",
              "      <td>23</td>\n",
              "      <td>female</td>\n",
              "      <td>1</td>\n",
              "      <td>rent</td>\n",
              "      <td>moderate</td>\n",
              "      <td>moderate</td>\n",
              "      <td>841</td>\n",
              "      <td>12</td>\n",
              "      <td>business</td>\n",
              "      <td>good</td>\n",
              "    </tr>\n",
              "    <tr>\n",
              "      <th>959</th>\n",
              "      <td>959</td>\n",
              "      <td>30</td>\n",
              "      <td>male</td>\n",
              "      <td>2</td>\n",
              "      <td>free</td>\n",
              "      <td>moderate</td>\n",
              "      <td>moderate</td>\n",
              "      <td>3069</td>\n",
              "      <td>24</td>\n",
              "      <td>furniture/equipment</td>\n",
              "      <td>good</td>\n",
              "    </tr>\n",
              "    <tr>\n",
              "      <th>639</th>\n",
              "      <td>639</td>\n",
              "      <td>26</td>\n",
              "      <td>male</td>\n",
              "      <td>2</td>\n",
              "      <td>own</td>\n",
              "      <td>little</td>\n",
              "      <td>little</td>\n",
              "      <td>4370</td>\n",
              "      <td>42</td>\n",
              "      <td>radio/TV</td>\n",
              "      <td>bad</td>\n",
              "    </tr>\n",
              "    <tr>\n",
              "      <th>417</th>\n",
              "      <td>417</td>\n",
              "      <td>23</td>\n",
              "      <td>female</td>\n",
              "      <td>2</td>\n",
              "      <td>rent</td>\n",
              "      <td>NaN</td>\n",
              "      <td>little</td>\n",
              "      <td>8471</td>\n",
              "      <td>18</td>\n",
              "      <td>education</td>\n",
              "      <td>good</td>\n",
              "    </tr>\n",
              "    <tr>\n",
              "      <th>400</th>\n",
              "      <td>400</td>\n",
              "      <td>39</td>\n",
              "      <td>male</td>\n",
              "      <td>2</td>\n",
              "      <td>own</td>\n",
              "      <td>little</td>\n",
              "      <td>NaN</td>\n",
              "      <td>1473</td>\n",
              "      <td>18</td>\n",
              "      <td>radio/TV</td>\n",
              "      <td>good</td>\n",
              "    </tr>\n",
              "    <tr>\n",
              "      <th>243</th>\n",
              "      <td>243</td>\n",
              "      <td>27</td>\n",
              "      <td>female</td>\n",
              "      <td>2</td>\n",
              "      <td>own</td>\n",
              "      <td>little</td>\n",
              "      <td>NaN</td>\n",
              "      <td>1185</td>\n",
              "      <td>12</td>\n",
              "      <td>business</td>\n",
              "      <td>good</td>\n",
              "    </tr>\n",
              "    <tr>\n",
              "      <th>847</th>\n",
              "      <td>847</td>\n",
              "      <td>28</td>\n",
              "      <td>male</td>\n",
              "      <td>2</td>\n",
              "      <td>own</td>\n",
              "      <td>little</td>\n",
              "      <td>NaN</td>\n",
              "      <td>1249</td>\n",
              "      <td>24</td>\n",
              "      <td>car</td>\n",
              "      <td>good</td>\n",
              "    </tr>\n",
              "    <tr>\n",
              "      <th>374</th>\n",
              "      <td>374</td>\n",
              "      <td>60</td>\n",
              "      <td>female</td>\n",
              "      <td>3</td>\n",
              "      <td>free</td>\n",
              "      <td>moderate</td>\n",
              "      <td>moderate</td>\n",
              "      <td>14782</td>\n",
              "      <td>60</td>\n",
              "      <td>vacation/others</td>\n",
              "      <td>bad</td>\n",
              "    </tr>\n",
              "    <tr>\n",
              "      <th>533</th>\n",
              "      <td>533</td>\n",
              "      <td>26</td>\n",
              "      <td>male</td>\n",
              "      <td>2</td>\n",
              "      <td>own</td>\n",
              "      <td>moderate</td>\n",
              "      <td>NaN</td>\n",
              "      <td>1311</td>\n",
              "      <td>24</td>\n",
              "      <td>radio/TV</td>\n",
              "      <td>good</td>\n",
              "    </tr>\n",
              "  </tbody>\n",
              "</table>\n",
              "</div>"
            ],
            "text/plain": [
              "     Unnamed: 0  Age     Sex  Job Housing Saving accounts Checking account  \\\n",
              "704         704   32  female    2     own          little         moderate   \n",
              "752         752   23  female    1    rent        moderate         moderate   \n",
              "959         959   30    male    2    free        moderate         moderate   \n",
              "639         639   26    male    2     own          little           little   \n",
              "417         417   23  female    2    rent             NaN           little   \n",
              "400         400   39    male    2     own          little              NaN   \n",
              "243         243   27  female    2     own          little              NaN   \n",
              "847         847   28    male    2     own          little              NaN   \n",
              "374         374   60  female    3    free        moderate         moderate   \n",
              "533         533   26    male    2     own        moderate              NaN   \n",
              "\n",
              "     Credit amount  Duration              Purpose  Risk  \n",
              "704           2528        27             business  good  \n",
              "752            841        12             business  good  \n",
              "959           3069        24  furniture/equipment  good  \n",
              "639           4370        42             radio/TV   bad  \n",
              "417           8471        18            education  good  \n",
              "400           1473        18             radio/TV  good  \n",
              "243           1185        12             business  good  \n",
              "847           1249        24                  car  good  \n",
              "374          14782        60      vacation/others   bad  \n",
              "533           1311        24             radio/TV  good  "
            ]
          },
          "metadata": {
            "tags": []
          },
          "execution_count": 6
        }
      ]
    },
    {
      "cell_type": "code",
      "metadata": {
        "id": "sk1ViJOzCcZt"
      },
      "source": [
        "data.drop(columns=['Unnamed: 0','Purpose'],inplace=True)"
      ],
      "execution_count": null,
      "outputs": []
    },
    {
      "cell_type": "code",
      "metadata": {
        "id": "dlw2nMG7CcZv",
        "outputId": "2370f20a-1071-4554-aa7c-42fd8aca371c"
      },
      "source": [
        "data.isnull().sum()"
      ],
      "execution_count": null,
      "outputs": [
        {
          "output_type": "execute_result",
          "data": {
            "text/plain": [
              "Age                   0\n",
              "Sex                   0\n",
              "Job                   0\n",
              "Housing               0\n",
              "Saving accounts     183\n",
              "Checking account    394\n",
              "Credit amount         0\n",
              "Duration              0\n",
              "Risk                  0\n",
              "dtype: int64"
            ]
          },
          "metadata": {
            "tags": []
          },
          "execution_count": 79
        }
      ]
    },
    {
      "cell_type": "code",
      "metadata": {
        "id": "NxGHCZ1hCcZw",
        "outputId": "f7e08f41-504f-453f-80c6-5902f3187598"
      },
      "source": [
        "data.info()"
      ],
      "execution_count": null,
      "outputs": [
        {
          "output_type": "stream",
          "text": [
            "<class 'pandas.core.frame.DataFrame'>\n",
            "RangeIndex: 1000 entries, 0 to 999\n",
            "Data columns (total 10 columns):\n",
            "Age                 1000 non-null int64\n",
            "Sex                 1000 non-null object\n",
            "Job                 1000 non-null int64\n",
            "Housing             1000 non-null object\n",
            "Saving accounts     817 non-null object\n",
            "Checking account    606 non-null object\n",
            "Credit amount       1000 non-null int64\n",
            "Duration            1000 non-null int64\n",
            "Purpose             1000 non-null object\n",
            "Risk                1000 non-null object\n",
            "dtypes: int64(4), object(6)\n",
            "memory usage: 78.2+ KB\n"
          ],
          "name": "stdout"
        }
      ]
    },
    {
      "cell_type": "code",
      "metadata": {
        "id": "pX_WPumXCcZx",
        "outputId": "7e323cfd-3822-4a14-c556-93a5b109adce"
      },
      "source": [
        "data.describe()"
      ],
      "execution_count": null,
      "outputs": [
        {
          "output_type": "execute_result",
          "data": {
            "text/html": [
              "<div>\n",
              "<style scoped>\n",
              "    .dataframe tbody tr th:only-of-type {\n",
              "        vertical-align: middle;\n",
              "    }\n",
              "\n",
              "    .dataframe tbody tr th {\n",
              "        vertical-align: top;\n",
              "    }\n",
              "\n",
              "    .dataframe thead th {\n",
              "        text-align: right;\n",
              "    }\n",
              "</style>\n",
              "<table border=\"1\" class=\"dataframe\">\n",
              "  <thead>\n",
              "    <tr style=\"text-align: right;\">\n",
              "      <th></th>\n",
              "      <th>Age</th>\n",
              "      <th>Job</th>\n",
              "      <th>Credit amount</th>\n",
              "      <th>Duration</th>\n",
              "    </tr>\n",
              "  </thead>\n",
              "  <tbody>\n",
              "    <tr>\n",
              "      <th>count</th>\n",
              "      <td>1000.000000</td>\n",
              "      <td>1000.000000</td>\n",
              "      <td>1000.000000</td>\n",
              "      <td>1000.000000</td>\n",
              "    </tr>\n",
              "    <tr>\n",
              "      <th>mean</th>\n",
              "      <td>35.546000</td>\n",
              "      <td>1.904000</td>\n",
              "      <td>3271.258000</td>\n",
              "      <td>20.903000</td>\n",
              "    </tr>\n",
              "    <tr>\n",
              "      <th>std</th>\n",
              "      <td>11.375469</td>\n",
              "      <td>0.653614</td>\n",
              "      <td>2822.736876</td>\n",
              "      <td>12.058814</td>\n",
              "    </tr>\n",
              "    <tr>\n",
              "      <th>min</th>\n",
              "      <td>19.000000</td>\n",
              "      <td>0.000000</td>\n",
              "      <td>250.000000</td>\n",
              "      <td>4.000000</td>\n",
              "    </tr>\n",
              "    <tr>\n",
              "      <th>25%</th>\n",
              "      <td>27.000000</td>\n",
              "      <td>2.000000</td>\n",
              "      <td>1365.500000</td>\n",
              "      <td>12.000000</td>\n",
              "    </tr>\n",
              "    <tr>\n",
              "      <th>50%</th>\n",
              "      <td>33.000000</td>\n",
              "      <td>2.000000</td>\n",
              "      <td>2319.500000</td>\n",
              "      <td>18.000000</td>\n",
              "    </tr>\n",
              "    <tr>\n",
              "      <th>75%</th>\n",
              "      <td>42.000000</td>\n",
              "      <td>2.000000</td>\n",
              "      <td>3972.250000</td>\n",
              "      <td>24.000000</td>\n",
              "    </tr>\n",
              "    <tr>\n",
              "      <th>max</th>\n",
              "      <td>75.000000</td>\n",
              "      <td>3.000000</td>\n",
              "      <td>18424.000000</td>\n",
              "      <td>72.000000</td>\n",
              "    </tr>\n",
              "  </tbody>\n",
              "</table>\n",
              "</div>"
            ],
            "text/plain": [
              "               Age          Job  Credit amount     Duration\n",
              "count  1000.000000  1000.000000    1000.000000  1000.000000\n",
              "mean     35.546000     1.904000    3271.258000    20.903000\n",
              "std      11.375469     0.653614    2822.736876    12.058814\n",
              "min      19.000000     0.000000     250.000000     4.000000\n",
              "25%      27.000000     2.000000    1365.500000    12.000000\n",
              "50%      33.000000     2.000000    2319.500000    18.000000\n",
              "75%      42.000000     2.000000    3972.250000    24.000000\n",
              "max      75.000000     3.000000   18424.000000    72.000000"
            ]
          },
          "metadata": {
            "tags": []
          },
          "execution_count": 53
        }
      ]
    },
    {
      "cell_type": "code",
      "metadata": {
        "id": "bcEM4uXZCcZy"
      },
      "source": [
        "data.dropna(axis=0,inplace= True)"
      ],
      "execution_count": null,
      "outputs": []
    },
    {
      "cell_type": "code",
      "metadata": {
        "id": "ZSqccgx0CcZz",
        "outputId": "beaa0762-582b-4049-db25-13e33f0344e3"
      },
      "source": [
        "data[['Age','Duration']].hist()"
      ],
      "execution_count": null,
      "outputs": [
        {
          "output_type": "execute_result",
          "data": {
            "text/plain": [
              "array([[<matplotlib.axes._subplots.AxesSubplot object at 0x000001F54E13B128>,\n",
              "        <matplotlib.axes._subplots.AxesSubplot object at 0x000001F54E156438>]],\n",
              "      dtype=object)"
            ]
          },
          "metadata": {
            "tags": []
          },
          "execution_count": 55
        },
        {
          "output_type": "display_data",
          "data": {
            "image/png": "[encoded data removed]",
            "text/plain": [
              "<Figure size 432x288 with 2 Axes>"
            ]
          },
          "metadata": {
            "tags": []
          }
        }
      ]
    },
    {
      "cell_type": "code",
      "metadata": {
        "id": "vOL4971kCcZ0",
        "outputId": "deceb43d-bc78-4da7-f9d7-74fa81429d1c"
      },
      "source": [
        "data.Housing.value_counts()"
      ],
      "execution_count": null,
      "outputs": [
        {
          "output_type": "execute_result",
          "data": {
            "text/plain": [
              "own     349\n",
              "rent    108\n",
              "free     65\n",
              "Name: Housing, dtype: int64"
            ]
          },
          "metadata": {
            "tags": []
          },
          "execution_count": 56
        }
      ]
    },
    {
      "cell_type": "code",
      "metadata": {
        "id": "yka_jln5CcZ1",
        "outputId": "2f1fa9bb-b0a2-4357-de72-b79b8e747498"
      },
      "source": [
        "data.Risk.value_counts()"
      ],
      "execution_count": null,
      "outputs": [
        {
          "output_type": "execute_result",
          "data": {
            "text/plain": [
              "good    291\n",
              "bad     231\n",
              "Name: Risk, dtype: int64"
            ]
          },
          "metadata": {
            "tags": []
          },
          "execution_count": 72
        }
      ]
    },
    {
      "cell_type": "code",
      "metadata": {
        "id": "87JCv19wCcZ2",
        "outputId": "682f616d-781c-4e94-98ba-253fd7dae929"
      },
      "source": [
        "data['Saving accounts'].value_counts()"
      ],
      "execution_count": null,
      "outputs": [
        {
          "output_type": "execute_result",
          "data": {
            "text/plain": [
              "little        412\n",
              "moderate       64\n",
              "quite rich     23\n",
              "rich           23\n",
              "Name: Saving accounts, dtype: int64"
            ]
          },
          "metadata": {
            "tags": []
          },
          "execution_count": 57
        }
      ]
    },
    {
      "cell_type": "code",
      "metadata": {
        "id": "9P2WDLgbCcZ3",
        "outputId": "0b930625-584b-45d3-c65d-43721c130019"
      },
      "source": [
        "data['Checking account'].value_counts()"
      ],
      "execution_count": null,
      "outputs": [
        {
          "output_type": "execute_result",
          "data": {
            "text/plain": [
              "little      245\n",
              "moderate    224\n",
              "rich         53\n",
              "Name: Checking account, dtype: int64"
            ]
          },
          "metadata": {
            "tags": []
          },
          "execution_count": 58
        }
      ]
    },
    {
      "cell_type": "code",
      "metadata": {
        "id": "uvF1RbnsCcZ4",
        "outputId": "484586b2-20fb-4e2c-fc54-9e6d6808d782"
      },
      "source": [
        "data['Purpose'].value_counts()"
      ],
      "execution_count": null,
      "outputs": [
        {
          "output_type": "execute_result",
          "data": {
            "text/plain": [
              "car                    173\n",
              "radio/TV               132\n",
              "furniture/equipment    107\n",
              "business                53\n",
              "education               28\n",
              "repairs                 14\n",
              "vacation/others          9\n",
              "domestic appliances      6\n",
              "Name: Purpose, dtype: int64"
            ]
          },
          "metadata": {
            "tags": []
          },
          "execution_count": 59
        }
      ]
    },
    {
      "cell_type": "code",
      "metadata": {
        "id": "qTLnxuf1CcZ4",
        "outputId": "9026371d-b2bc-424c-c9e9-c98f2b60f80a"
      },
      "source": [
        "data['Job'].value_counts()"
      ],
      "execution_count": null,
      "outputs": [
        {
          "output_type": "execute_result",
          "data": {
            "text/plain": [
              "2    630\n",
              "1    200\n",
              "3    148\n",
              "0     22\n",
              "Name: Job, dtype: int64"
            ]
          },
          "metadata": {
            "tags": []
          },
          "execution_count": 76
        }
      ]
    },
    {
      "cell_type": "code",
      "metadata": {
        "id": "nqphdaXICcZ5",
        "outputId": "8d1f2bcc-df18-4b1b-ac44-f2c54558b775"
      },
      "source": [
        "data.sample(20)"
      ],
      "execution_count": null,
      "outputs": [
        {
          "output_type": "execute_result",
          "data": {
            "text/html": [
              "<div>\n",
              "<style scoped>\n",
              "    .dataframe tbody tr th:only-of-type {\n",
              "        vertical-align: middle;\n",
              "    }\n",
              "\n",
              "    .dataframe tbody tr th {\n",
              "        vertical-align: top;\n",
              "    }\n",
              "\n",
              "    .dataframe thead th {\n",
              "        text-align: right;\n",
              "    }\n",
              "</style>\n",
              "<table border=\"1\" class=\"dataframe\">\n",
              "  <thead>\n",
              "    <tr style=\"text-align: right;\">\n",
              "      <th></th>\n",
              "      <th>Age</th>\n",
              "      <th>Sex</th>\n",
              "      <th>Job</th>\n",
              "      <th>Housing</th>\n",
              "      <th>Saving accounts</th>\n",
              "      <th>Checking account</th>\n",
              "      <th>Credit amount</th>\n",
              "      <th>Duration</th>\n",
              "      <th>Purpose</th>\n",
              "      <th>Risk</th>\n",
              "      <th>Gender</th>\n",
              "    </tr>\n",
              "  </thead>\n",
              "  <tbody>\n",
              "    <tr>\n",
              "      <th>969</th>\n",
              "      <td>40</td>\n",
              "      <td>male</td>\n",
              "      <td>1</td>\n",
              "      <td>own</td>\n",
              "      <td>little</td>\n",
              "      <td>little</td>\n",
              "      <td>3939</td>\n",
              "      <td>11</td>\n",
              "      <td>car</td>\n",
              "      <td>good</td>\n",
              "      <td>male</td>\n",
              "    </tr>\n",
              "    <tr>\n",
              "      <th>858</th>\n",
              "      <td>29</td>\n",
              "      <td>female</td>\n",
              "      <td>2</td>\n",
              "      <td>own</td>\n",
              "      <td>little</td>\n",
              "      <td>little</td>\n",
              "      <td>3959</td>\n",
              "      <td>15</td>\n",
              "      <td>car</td>\n",
              "      <td>bad</td>\n",
              "      <td>female</td>\n",
              "    </tr>\n",
              "    <tr>\n",
              "      <th>35</th>\n",
              "      <td>25</td>\n",
              "      <td>male</td>\n",
              "      <td>1</td>\n",
              "      <td>own</td>\n",
              "      <td>little</td>\n",
              "      <td>moderate</td>\n",
              "      <td>4746</td>\n",
              "      <td>45</td>\n",
              "      <td>radio/TV</td>\n",
              "      <td>bad</td>\n",
              "      <td>male</td>\n",
              "    </tr>\n",
              "    <tr>\n",
              "      <th>714</th>\n",
              "      <td>27</td>\n",
              "      <td>male</td>\n",
              "      <td>3</td>\n",
              "      <td>own</td>\n",
              "      <td>little</td>\n",
              "      <td>moderate</td>\n",
              "      <td>14027</td>\n",
              "      <td>60</td>\n",
              "      <td>car</td>\n",
              "      <td>bad</td>\n",
              "      <td>male</td>\n",
              "    </tr>\n",
              "    <tr>\n",
              "      <th>288</th>\n",
              "      <td>49</td>\n",
              "      <td>female</td>\n",
              "      <td>2</td>\n",
              "      <td>own</td>\n",
              "      <td>little</td>\n",
              "      <td>moderate</td>\n",
              "      <td>1092</td>\n",
              "      <td>12</td>\n",
              "      <td>radio/TV</td>\n",
              "      <td>good</td>\n",
              "      <td>female</td>\n",
              "    </tr>\n",
              "    <tr>\n",
              "      <th>646</th>\n",
              "      <td>32</td>\n",
              "      <td>male</td>\n",
              "      <td>2</td>\n",
              "      <td>own</td>\n",
              "      <td>little</td>\n",
              "      <td>little</td>\n",
              "      <td>4583</td>\n",
              "      <td>30</td>\n",
              "      <td>furniture/equipment</td>\n",
              "      <td>good</td>\n",
              "      <td>male</td>\n",
              "    </tr>\n",
              "    <tr>\n",
              "      <th>624</th>\n",
              "      <td>65</td>\n",
              "      <td>male</td>\n",
              "      <td>2</td>\n",
              "      <td>free</td>\n",
              "      <td>little</td>\n",
              "      <td>little</td>\n",
              "      <td>2600</td>\n",
              "      <td>18</td>\n",
              "      <td>radio/TV</td>\n",
              "      <td>bad</td>\n",
              "      <td>male</td>\n",
              "    </tr>\n",
              "    <tr>\n",
              "      <th>722</th>\n",
              "      <td>24</td>\n",
              "      <td>female</td>\n",
              "      <td>1</td>\n",
              "      <td>own</td>\n",
              "      <td>little</td>\n",
              "      <td>little</td>\n",
              "      <td>1228</td>\n",
              "      <td>12</td>\n",
              "      <td>car</td>\n",
              "      <td>bad</td>\n",
              "      <td>female</td>\n",
              "    </tr>\n",
              "    <tr>\n",
              "      <th>810</th>\n",
              "      <td>26</td>\n",
              "      <td>male</td>\n",
              "      <td>2</td>\n",
              "      <td>own</td>\n",
              "      <td>little</td>\n",
              "      <td>moderate</td>\n",
              "      <td>907</td>\n",
              "      <td>8</td>\n",
              "      <td>business</td>\n",
              "      <td>good</td>\n",
              "      <td>male</td>\n",
              "    </tr>\n",
              "    <tr>\n",
              "      <th>396</th>\n",
              "      <td>55</td>\n",
              "      <td>female</td>\n",
              "      <td>3</td>\n",
              "      <td>free</td>\n",
              "      <td>little</td>\n",
              "      <td>little</td>\n",
              "      <td>2578</td>\n",
              "      <td>12</td>\n",
              "      <td>furniture/equipment</td>\n",
              "      <td>good</td>\n",
              "      <td>female</td>\n",
              "    </tr>\n",
              "    <tr>\n",
              "      <th>811</th>\n",
              "      <td>28</td>\n",
              "      <td>male</td>\n",
              "      <td>1</td>\n",
              "      <td>own</td>\n",
              "      <td>little</td>\n",
              "      <td>moderate</td>\n",
              "      <td>484</td>\n",
              "      <td>6</td>\n",
              "      <td>radio/TV</td>\n",
              "      <td>good</td>\n",
              "      <td>male</td>\n",
              "    </tr>\n",
              "    <tr>\n",
              "      <th>181</th>\n",
              "      <td>30</td>\n",
              "      <td>male</td>\n",
              "      <td>3</td>\n",
              "      <td>own</td>\n",
              "      <td>little</td>\n",
              "      <td>moderate</td>\n",
              "      <td>4455</td>\n",
              "      <td>36</td>\n",
              "      <td>business</td>\n",
              "      <td>bad</td>\n",
              "      <td>male</td>\n",
              "    </tr>\n",
              "    <tr>\n",
              "      <th>585</th>\n",
              "      <td>20</td>\n",
              "      <td>female</td>\n",
              "      <td>2</td>\n",
              "      <td>rent</td>\n",
              "      <td>little</td>\n",
              "      <td>little</td>\n",
              "      <td>2039</td>\n",
              "      <td>18</td>\n",
              "      <td>furniture/equipment</td>\n",
              "      <td>bad</td>\n",
              "      <td>female</td>\n",
              "    </tr>\n",
              "    <tr>\n",
              "      <th>543</th>\n",
              "      <td>34</td>\n",
              "      <td>male</td>\n",
              "      <td>1</td>\n",
              "      <td>own</td>\n",
              "      <td>little</td>\n",
              "      <td>rich</td>\n",
              "      <td>2864</td>\n",
              "      <td>18</td>\n",
              "      <td>furniture/equipment</td>\n",
              "      <td>bad</td>\n",
              "      <td>male</td>\n",
              "    </tr>\n",
              "    <tr>\n",
              "      <th>154</th>\n",
              "      <td>36</td>\n",
              "      <td>male</td>\n",
              "      <td>3</td>\n",
              "      <td>rent</td>\n",
              "      <td>moderate</td>\n",
              "      <td>moderate</td>\n",
              "      <td>6967</td>\n",
              "      <td>24</td>\n",
              "      <td>business</td>\n",
              "      <td>good</td>\n",
              "      <td>male</td>\n",
              "    </tr>\n",
              "    <tr>\n",
              "      <th>765</th>\n",
              "      <td>40</td>\n",
              "      <td>male</td>\n",
              "      <td>1</td>\n",
              "      <td>own</td>\n",
              "      <td>little</td>\n",
              "      <td>moderate</td>\n",
              "      <td>1155</td>\n",
              "      <td>12</td>\n",
              "      <td>radio/TV</td>\n",
              "      <td>good</td>\n",
              "      <td>male</td>\n",
              "    </tr>\n",
              "    <tr>\n",
              "      <th>740</th>\n",
              "      <td>32</td>\n",
              "      <td>male</td>\n",
              "      <td>2</td>\n",
              "      <td>own</td>\n",
              "      <td>moderate</td>\n",
              "      <td>little</td>\n",
              "      <td>2325</td>\n",
              "      <td>24</td>\n",
              "      <td>car</td>\n",
              "      <td>good</td>\n",
              "      <td>male</td>\n",
              "    </tr>\n",
              "    <tr>\n",
              "      <th>34</th>\n",
              "      <td>33</td>\n",
              "      <td>female</td>\n",
              "      <td>3</td>\n",
              "      <td>own</td>\n",
              "      <td>little</td>\n",
              "      <td>rich</td>\n",
              "      <td>1474</td>\n",
              "      <td>12</td>\n",
              "      <td>furniture/equipment</td>\n",
              "      <td>good</td>\n",
              "      <td>female</td>\n",
              "    </tr>\n",
              "    <tr>\n",
              "      <th>60</th>\n",
              "      <td>27</td>\n",
              "      <td>male</td>\n",
              "      <td>2</td>\n",
              "      <td>own</td>\n",
              "      <td>little</td>\n",
              "      <td>moderate</td>\n",
              "      <td>1391</td>\n",
              "      <td>9</td>\n",
              "      <td>business</td>\n",
              "      <td>good</td>\n",
              "      <td>male</td>\n",
              "    </tr>\n",
              "    <tr>\n",
              "      <th>1</th>\n",
              "      <td>22</td>\n",
              "      <td>female</td>\n",
              "      <td>2</td>\n",
              "      <td>own</td>\n",
              "      <td>little</td>\n",
              "      <td>moderate</td>\n",
              "      <td>5951</td>\n",
              "      <td>48</td>\n",
              "      <td>radio/TV</td>\n",
              "      <td>bad</td>\n",
              "      <td>female</td>\n",
              "    </tr>\n",
              "  </tbody>\n",
              "</table>\n",
              "</div>"
            ],
            "text/plain": [
              "     Age     Sex  Job Housing Saving accounts Checking account  Credit amount  \\\n",
              "969   40    male    1     own          little           little           3939   \n",
              "858   29  female    2     own          little           little           3959   \n",
              "35    25    male    1     own          little         moderate           4746   \n",
              "714   27    male    3     own          little         moderate          14027   \n",
              "288   49  female    2     own          little         moderate           1092   \n",
              "646   32    male    2     own          little           little           4583   \n",
              "624   65    male    2    free          little           little           2600   \n",
              "722   24  female    1     own          little           little           1228   \n",
              "810   26    male    2     own          little         moderate            907   \n",
              "396   55  female    3    free          little           little           2578   \n",
              "811   28    male    1     own          little         moderate            484   \n",
              "181   30    male    3     own          little         moderate           4455   \n",
              "585   20  female    2    rent          little           little           2039   \n",
              "543   34    male    1     own          little             rich           2864   \n",
              "154   36    male    3    rent        moderate         moderate           6967   \n",
              "765   40    male    1     own          little         moderate           1155   \n",
              "740   32    male    2     own        moderate           little           2325   \n",
              "34    33  female    3     own          little             rich           1474   \n",
              "60    27    male    2     own          little         moderate           1391   \n",
              "1     22  female    2     own          little         moderate           5951   \n",
              "\n",
              "     Duration              Purpose  Risk  Gender  \n",
              "969        11                  car  good    male  \n",
              "858        15                  car   bad  female  \n",
              "35         45             radio/TV   bad    male  \n",
              "714        60                  car   bad    male  \n",
              "288        12             radio/TV  good  female  \n",
              "646        30  furniture/equipment  good    male  \n",
              "624        18             radio/TV   bad    male  \n",
              "722        12                  car   bad  female  \n",
              "810         8             business  good    male  \n",
              "396        12  furniture/equipment  good  female  \n",
              "811         6             radio/TV  good    male  \n",
              "181        36             business   bad    male  \n",
              "585        18  furniture/equipment   bad  female  \n",
              "543        18  furniture/equipment   bad    male  \n",
              "154        24             business  good    male  \n",
              "765        12             radio/TV  good    male  \n",
              "740        24                  car  good    male  \n",
              "34         12  furniture/equipment  good  female  \n",
              "60          9             business  good    male  \n",
              "1          48             radio/TV   bad  female  "
            ]
          },
          "metadata": {
            "tags": []
          },
          "execution_count": 61
        }
      ]
    },
    {
      "cell_type": "code",
      "metadata": {
        "id": "nitZd2gECcZ6",
        "outputId": "ba5800c8-c7a9-4aee-ea3b-d1a329cf7a16"
      },
      "source": [
        "sns.boxplot(x='Saving accounts', y='Credit amount',hue='Housing', data=data)\n",
        "plt.show()"
      ],
      "execution_count": null,
      "outputs": [
        {
          "output_type": "display_data",
          "data": {
            "image/png": "[encoded data removed]",
            "text/plain": [
              "<Figure size 432x288 with 1 Axes>"
            ]
          },
          "metadata": {
            "tags": []
          }
        }
      ]
    },
    {
      "cell_type": "code",
      "metadata": {
        "id": "JswEpWFVCcZ7",
        "outputId": "0ce589e8-6a39-42a5-8448-2123d80086ea"
      },
      "source": [
        "sns.boxplot(x='Checking account', y='Credit amount',hue='Housing', data=data)\n",
        "plt.show()"
      ],
      "execution_count": null,
      "outputs": [
        {
          "output_type": "display_data",
          "data": {
            "image/png": "[encoded data removed]",
            "text/plain": [
              "<Figure size 432x288 with 1 Axes>"
            ]
          },
          "metadata": {
            "tags": []
          }
        }
      ]
    },
    {
      "cell_type": "markdown",
      "metadata": {
        "id": "GIUV4cF8CcZ8"
      },
      "source": [
        "# label encoding"
      ]
    },
    {
      "cell_type": "code",
      "metadata": {
        "id": "RpyxIp2sCcZ9"
      },
      "source": [
        "data.Sex=data.Sex.replace(to_replace='male',value=1)\n",
        "data.Sex.replace(to_replace='female',value=0,inplace = True)\n",
        "data.Housing.replace(to_replace='own',value=1,inplace = True)\n",
        "data.Housing.replace(to_replace='rent',value=2,inplace = True)\n",
        "data.Housing.replace(to_replace='free',value=3,inplace = True)\n",
        "data['Saving accounts'].replace(to_replace='little',value=0,inplace = True)\n",
        "data['Saving accounts'].replace(to_replace='moderate',value=1,inplace = True)\n",
        "data['Saving accounts'].replace(to_replace='quite rich',value=2,inplace = True)\n",
        "data['Saving accounts'].replace(to_replace='rich',value=3,inplace = True)\n",
        "data['Checking account'].replace(to_replace='little',value=0,inplace = True)\n",
        "data['Checking account'].replace(to_replace='moderate',value=1,inplace = True)\n",
        "data['Checking account'].replace(to_replace='rich',value=2,inplace = True)\n",
        "data.Risk.replace(to_replace='bad',value=0,inplace = True)\n",
        "data.Risk.replace(to_replace='good',value=1,inplace = True)"
      ],
      "execution_count": null,
      "outputs": []
    },
    {
      "cell_type": "markdown",
      "metadata": {
        "id": "zxOlE46hCcZ9"
      },
      "source": [
        "# scaling"
      ]
    },
    {
      "cell_type": "code",
      "metadata": {
        "id": "OZ-rJ7ieCcZ_"
      },
      "source": [
        "from sklearn.preprocessing import MinMaxScaler\n",
        "min_max_scaler = MinMaxScaler()"
      ],
      "execution_count": null,
      "outputs": []
    },
    {
      "cell_type": "code",
      "metadata": {
        "id": "qLqBR4JGCcZ_"
      },
      "source": [
        "\n",
        "data[['Credit amount','Duration']]=min_max_scaler.fit_transform(data[['Credit amount','Duration']])"
      ],
      "execution_count": null,
      "outputs": []
    },
    {
      "cell_type": "code",
      "metadata": {
        "id": "ZnERU_tKCcaA",
        "outputId": "161e48fb-39ba-4dc8-c0f2-192acdeb7e16"
      },
      "source": [
        "data.sample(10)"
      ],
      "execution_count": null,
      "outputs": [
        {
          "output_type": "execute_result",
          "data": {
            "text/html": [
              "<div>\n",
              "<style scoped>\n",
              "    .dataframe tbody tr th:only-of-type {\n",
              "        vertical-align: middle;\n",
              "    }\n",
              "\n",
              "    .dataframe tbody tr th {\n",
              "        vertical-align: top;\n",
              "    }\n",
              "\n",
              "    .dataframe thead th {\n",
              "        text-align: right;\n",
              "    }\n",
              "</style>\n",
              "<table border=\"1\" class=\"dataframe\">\n",
              "  <thead>\n",
              "    <tr style=\"text-align: right;\">\n",
              "      <th></th>\n",
              "      <th>Age</th>\n",
              "      <th>Sex</th>\n",
              "      <th>Job</th>\n",
              "      <th>Housing</th>\n",
              "      <th>Saving accounts</th>\n",
              "      <th>Checking account</th>\n",
              "      <th>Credit amount</th>\n",
              "      <th>Duration</th>\n",
              "      <th>Risk</th>\n",
              "    </tr>\n",
              "  </thead>\n",
              "  <tbody>\n",
              "    <tr>\n",
              "      <th>205</th>\n",
              "      <td>38</td>\n",
              "      <td>1</td>\n",
              "      <td>3</td>\n",
              "      <td>3</td>\n",
              "      <td>0.0</td>\n",
              "      <td>0.0</td>\n",
              "      <td>0.570145</td>\n",
              "      <td>0.363636</td>\n",
              "      <td>1</td>\n",
              "    </tr>\n",
              "    <tr>\n",
              "      <th>878</th>\n",
              "      <td>27</td>\n",
              "      <td>1</td>\n",
              "      <td>3</td>\n",
              "      <td>3</td>\n",
              "      <td>0.0</td>\n",
              "      <td>0.0</td>\n",
              "      <td>0.063147</td>\n",
              "      <td>0.045455</td>\n",
              "      <td>0</td>\n",
              "    </tr>\n",
              "    <tr>\n",
              "      <th>689</th>\n",
              "      <td>31</td>\n",
              "      <td>1</td>\n",
              "      <td>2</td>\n",
              "      <td>1</td>\n",
              "      <td>3.0</td>\n",
              "      <td>0.0</td>\n",
              "      <td>0.185971</td>\n",
              "      <td>0.090909</td>\n",
              "      <td>1</td>\n",
              "    </tr>\n",
              "    <tr>\n",
              "      <th>822</th>\n",
              "      <td>41</td>\n",
              "      <td>1</td>\n",
              "      <td>2</td>\n",
              "      <td>1</td>\n",
              "      <td>0.0</td>\n",
              "      <td>0.0</td>\n",
              "      <td>0.134230</td>\n",
              "      <td>0.454545</td>\n",
              "      <td>0</td>\n",
              "    </tr>\n",
              "    <tr>\n",
              "      <th>586</th>\n",
              "      <td>36</td>\n",
              "      <td>1</td>\n",
              "      <td>2</td>\n",
              "      <td>2</td>\n",
              "      <td>0.0</td>\n",
              "      <td>0.0</td>\n",
              "      <td>0.139024</td>\n",
              "      <td>0.045455</td>\n",
              "      <td>1</td>\n",
              "    </tr>\n",
              "    <tr>\n",
              "      <th>958</th>\n",
              "      <td>45</td>\n",
              "      <td>1</td>\n",
              "      <td>1</td>\n",
              "      <td>1</td>\n",
              "      <td>0.0</td>\n",
              "      <td>0.0</td>\n",
              "      <td>0.205532</td>\n",
              "      <td>0.333333</td>\n",
              "      <td>0</td>\n",
              "    </tr>\n",
              "    <tr>\n",
              "      <th>112</th>\n",
              "      <td>28</td>\n",
              "      <td>1</td>\n",
              "      <td>1</td>\n",
              "      <td>2</td>\n",
              "      <td>0.0</td>\n",
              "      <td>1.0</td>\n",
              "      <td>0.329733</td>\n",
              "      <td>0.181818</td>\n",
              "      <td>1</td>\n",
              "    </tr>\n",
              "    <tr>\n",
              "      <th>838</th>\n",
              "      <td>63</td>\n",
              "      <td>1</td>\n",
              "      <td>2</td>\n",
              "      <td>1</td>\n",
              "      <td>0.0</td>\n",
              "      <td>0.0</td>\n",
              "      <td>0.147730</td>\n",
              "      <td>0.272727</td>\n",
              "      <td>1</td>\n",
              "    </tr>\n",
              "    <tr>\n",
              "      <th>831</th>\n",
              "      <td>23</td>\n",
              "      <td>0</td>\n",
              "      <td>2</td>\n",
              "      <td>2</td>\n",
              "      <td>0.0</td>\n",
              "      <td>0.0</td>\n",
              "      <td>0.051796</td>\n",
              "      <td>0.181818</td>\n",
              "      <td>0</td>\n",
              "    </tr>\n",
              "    <tr>\n",
              "      <th>973</th>\n",
              "      <td>36</td>\n",
              "      <td>1</td>\n",
              "      <td>2</td>\n",
              "      <td>2</td>\n",
              "      <td>0.0</td>\n",
              "      <td>0.0</td>\n",
              "      <td>0.386875</td>\n",
              "      <td>0.818182</td>\n",
              "      <td>0</td>\n",
              "    </tr>\n",
              "  </tbody>\n",
              "</table>\n",
              "</div>"
            ],
            "text/plain": [
              "     Age  Sex  Job  Housing  Saving accounts  Checking account  Credit amount  \\\n",
              "205   38    1    3        3              0.0               0.0       0.570145   \n",
              "878   27    1    3        3              0.0               0.0       0.063147   \n",
              "689   31    1    2        1              3.0               0.0       0.185971   \n",
              "822   41    1    2        1              0.0               0.0       0.134230   \n",
              "586   36    1    2        2              0.0               0.0       0.139024   \n",
              "958   45    1    1        1              0.0               0.0       0.205532   \n",
              "112   28    1    1        2              0.0               1.0       0.329733   \n",
              "838   63    1    2        1              0.0               0.0       0.147730   \n",
              "831   23    0    2        2              0.0               0.0       0.051796   \n",
              "973   36    1    2        2              0.0               0.0       0.386875   \n",
              "\n",
              "     Duration  Risk  \n",
              "205  0.363636     1  \n",
              "878  0.045455     0  \n",
              "689  0.090909     1  \n",
              "822  0.454545     0  \n",
              "586  0.045455     1  \n",
              "958  0.333333     0  \n",
              "112  0.181818     1  \n",
              "838  0.272727     1  \n",
              "831  0.181818     0  \n",
              "973  0.818182     0  "
            ]
          },
          "metadata": {
            "tags": []
          },
          "execution_count": 100
        }
      ]
    },
    {
      "cell_type": "code",
      "metadata": {
        "id": "jZv3qiLQCcaB"
      },
      "source": [
        "# splitting the features and labels\n",
        "\n",
        "X = data.drop('Risk',axis = 1)\n",
        "y = data['Risk']"
      ],
      "execution_count": null,
      "outputs": []
    },
    {
      "cell_type": "code",
      "metadata": {
        "id": "dKX0jFkTCcaB"
      },
      "source": [
        "# splitting the data into train and test with 70:30 ratio\n",
        "\n",
        "from sklearn.cross_validation import train_test_split\n",
        "x_train, x_test, y_train, y_test = train_test_split(X, y, test_size=0.30, random_state=42)\n"
      ],
      "execution_count": null,
      "outputs": []
    },
    {
      "cell_type": "code",
      "metadata": {
        "id": "Y4JKJ5-sCcaC"
      },
      "source": [
        "from sklearn.linear_model import LogisticRegression\n",
        "from sklearn import metrics\n",
        "logreg = LogisticRegression(C=0.6)"
      ],
      "execution_count": null,
      "outputs": []
    },
    {
      "cell_type": "markdown",
      "metadata": {
        "id": "I60cVGyyCcaD"
      },
      "source": [
        "# logistic"
      ]
    },
    {
      "cell_type": "code",
      "metadata": {
        "id": "396pRkCtCcaE"
      },
      "source": [
        "logreg.fit(x_train, y_train)\n",
        "y_pred_test = logreg.predict(x_test)\n",
        "y_pred_train = logreg.predict(x_train)"
      ],
      "execution_count": null,
      "outputs": []
    },
    {
      "cell_type": "code",
      "metadata": {
        "id": "sMA6VkRjCcaE",
        "outputId": "46243d4d-fe08-48dc-a4a2-7854ea24216a"
      },
      "source": [
        "##Metrics\n",
        "print(\"Test Accuracy: \", metrics.accuracy_score(y_test, y_pred_test))\n",
        "# comparing the metrics of predicted lebel and real label of test data\n",
        "print(\"Train Accuracy: \", metrics.accuracy_score(y_train, y_pred_train))\n",
        "# creating a confusion matrix to understand the classification\n",
        "conf = metrics.confusion_matrix(y_test, y_pred_test)\n",
        "print(conf)"
      ],
      "execution_count": null,
      "outputs": [
        {
          "output_type": "stream",
          "text": [
            "Test Accuracy:  0.5859872611464968\n",
            "Train Accuracy:  0.6684931506849315\n",
            "[[34 37]\n",
            " [28 58]]\n"
          ],
          "name": "stdout"
        }
      ]
    },
    {
      "cell_type": "code",
      "metadata": {
        "id": "xUson88pCcaF",
        "outputId": "3663bdae-f1e6-4005-8040-b3fd1cf4e59a"
      },
      "source": [
        "cmap = sns.cubehelix_palette(50, hue=0.05, rot=0, light=0.9, dark=0, as_cmap=True)\n",
        "sns.heatmap(conf,cmap = cmap,xticklabels=['Prediction No','Prediction Yes'],yticklabels=['Actual No','Actual Yes'], annot=True,\n",
        "            fmt='d')\n",
        "cr = metrics.classification_report(y_test, y_pred_test)\n",
        "print(cr)"
      ],
      "execution_count": null,
      "outputs": [
        {
          "output_type": "stream",
          "text": [
            "             precision    recall  f1-score   support\n",
            "\n",
            "          0       0.55      0.48      0.51        71\n",
            "          1       0.61      0.67      0.64        86\n",
            "\n",
            "avg / total       0.58      0.59      0.58       157\n",
            "\n"
          ],
          "name": "stdout"
        },
        {
          "output_type": "display_data",
          "data": {
            "image/png": "[encoded data removed]",
            "text/plain": [
              "<Figure size 432x288 with 2 Axes>"
            ]
          },
          "metadata": {
            "tags": []
          }
        }
      ]
    },
    {
      "cell_type": "markdown",
      "metadata": {
        "id": "XupF5HGgCcaG"
      },
      "source": [
        "# random forest"
      ]
    },
    {
      "cell_type": "code",
      "metadata": {
        "id": "Lc6cl_kjCcaG"
      },
      "source": [
        "from sklearn.ensemble import RandomForestClassifier\n",
        "rfclassifier= RandomForestClassifier(n_estimators=100, max_depth=2,random_state=0)"
      ],
      "execution_count": null,
      "outputs": []
    },
    {
      "cell_type": "code",
      "metadata": {
        "id": "X8S8UmmqCcaH",
        "outputId": "c1cc6d8e-4074-44e2-c622-c74c4d0292bf"
      },
      "source": [
        "rfclassifier.fit(x_train, y_train)\n",
        "y_pred_test = rfclassifier.predict(x_test)\n",
        "y_pred_train = rfclassifier.predict(x_train)\n",
        "##Metrics\n",
        "print(\"Test Accuracy: \", metrics.accuracy_score(y_test, y_pred_test))\n",
        "# comparing the metrics of predicted lebel and real label of test data\n",
        "print(\"Train Accuracy: \", metrics.accuracy_score(y_train, y_pred_train))\n",
        "# creating a confusion matrix to understand the classification\n",
        "conf = metrics.confusion_matrix(y_test, y_pred_test)\n",
        "print(conf)\n",
        "cmap = sns.cubehelix_palette(50, hue=0.05, rot=0, light=0.9, dark=0, as_cmap=True)\n",
        "sns.heatmap(conf,cmap = cmap,xticklabels=['Prediction No','Prediction Yes'],yticklabels=['Actual No','Actual Yes'], annot=True,\n",
        "            fmt='d')\n",
        "cr = metrics.classification_report(y_test, y_pred_test)\n",
        "print(cr)"
      ],
      "execution_count": null,
      "outputs": [
        {
          "output_type": "stream",
          "text": [
            "Test Accuracy:  0.5923566878980892\n",
            "Train Accuracy:  0.6767123287671233\n",
            "[[20 51]\n",
            " [13 73]]\n",
            "             precision    recall  f1-score   support\n",
            "\n",
            "          0       0.61      0.28      0.38        71\n",
            "          1       0.59      0.85      0.70        86\n",
            "\n",
            "avg / total       0.60      0.59      0.55       157\n",
            "\n"
          ],
          "name": "stdout"
        },
        {
          "output_type": "display_data",
          "data": {
            "image/png": "[encoded data removed]",
            "text/plain": [
              "<Figure size 432x288 with 2 Axes>"
            ]
          },
          "metadata": {
            "tags": []
          }
        }
      ]
    },
    {
      "cell_type": "markdown",
      "metadata": {
        "id": "Y6o2Xkj4CcaI"
      },
      "source": [
        "#  KNN"
      ]
    },
    {
      "cell_type": "code",
      "metadata": {
        "id": "yD9-ghWRCcaJ"
      },
      "source": [
        "from sklearn.neighbors import KNeighborsClassifier\n",
        "neigh = KNeighborsClassifier(n_neighbors=3)\n"
      ],
      "execution_count": null,
      "outputs": []
    },
    {
      "cell_type": "code",
      "metadata": {
        "id": "8ar4F99WCcaJ",
        "outputId": "44d4a503-0d5a-4f30-bb46-840f3a7b1cf9"
      },
      "source": [
        "neigh.fit(x_train, y_train)\n",
        "y_pred_test = neigh.predict(x_test)\n",
        "y_pred_train = neigh.predict(x_train)\n",
        "##Metrics\n",
        "print(\"Test Accuracy: \", metrics.accuracy_score(y_test, y_pred_test))\n",
        "# comparing the metrics of predicted lebel and real label of test data\n",
        "print(\"Train Accuracy: \", metrics.accuracy_score(y_train, y_pred_train))\n",
        "# creating a confusion matrix to understand the classification\n",
        "conf = metrics.confusion_matrix(y_test, y_pred_test)\n",
        "print(conf)\n",
        "cmap = sns.cubehelix_palette(50, hue=0.05, rot=0, light=0.9, dark=0, as_cmap=True)\n",
        "sns.heatmap(conf,cmap = cmap,xticklabels=['Prediction No','Prediction Yes'],yticklabels=['Actual No','Actual Yes'], annot=True,\n",
        "            fmt='d')\n",
        "cr = metrics.classification_report(y_test, y_pred_test)\n",
        "print(cr)"
      ],
      "execution_count": null,
      "outputs": [
        {
          "output_type": "stream",
          "text": [
            "Test Accuracy:  0.5987261146496815\n",
            "Train Accuracy:  0.7972602739726027\n",
            "[[38 33]\n",
            " [30 56]]\n",
            "             precision    recall  f1-score   support\n",
            "\n",
            "          0       0.56      0.54      0.55        71\n",
            "          1       0.63      0.65      0.64        86\n",
            "\n",
            "avg / total       0.60      0.60      0.60       157\n",
            "\n"
          ],
          "name": "stdout"
        },
        {
          "output_type": "display_data",
          "data": {
            "image/png": "[encoded data removed]",
            "text/plain": [
              "<Figure size 432x288 with 2 Axes>"
            ]
          },
          "metadata": {
            "tags": []
          }
        }
      ]
    },
    {
      "cell_type": "code",
      "metadata": {
        "id": "71vvQ-hgCcaK"
      },
      "source": [
        ""
      ],
      "execution_count": null,
      "outputs": []
    }
  ]
}